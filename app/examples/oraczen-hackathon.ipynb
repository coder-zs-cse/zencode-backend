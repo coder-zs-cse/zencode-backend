{
 "cells": [
  {
   "cell_type": "code",
   "execution_count": null,
   "metadata": {
    "_cell_guid": "b1076dfc-b9ad-4769-8c92-a6c4dae69d19",
    "_uuid": "8f2839f25d086af736a60e9eeb907d3b93b6e0e5",
    "jupyter": {
     "source_hidden": true
    },
    "trusted": true
   },
   "outputs": [],
   "source": [
    "# This Python 3 environment comes with many helpful analytics libraries installed\n",
    "# It is defined by the kaggle/python Docker image: https://github.com/kaggle/docker-python\n",
    "# For example, here's several helpful packages to load\n",
    "\n",
    "import numpy as np # linear algebra\n",
    "import pandas as pd # data processing, CSV file I/O (e.g. pd.read_csv)\n",
    "\n",
    "# Input data files are available in the read-only \"../input/\" directory\n",
    "# For example, running this (by clicking run or pressing Shift+Enter) will list all files under the input directory\n",
    "\n",
    "import os\n",
    "for dirname, _, filenames in os.walk('/kaggle/input'):\n",
    "    for filename in filenames:\n",
    "        print(os.path.join(dirname, filename))\n",
    "\n",
    "# You can write up to 20GB to the current directory (/kaggle/working/) that gets preserved as output when you create a version using \"Save & Run All\" \n",
    "# You can also write temporary files to /kaggle/temp/, but they won't be saved outside of the current session"
   ]
  },
  {
   "cell_type": "code",
   "execution_count": 2,
   "metadata": {
    "execution": {
     "iopub.execute_input": "2025-03-24T15:24:48.916258Z",
     "iopub.status.busy": "2025-03-24T15:24:48.915922Z",
     "iopub.status.idle": "2025-03-24T15:25:00.100401Z",
     "shell.execute_reply": "2025-03-24T15:25:00.099044Z",
     "shell.execute_reply.started": "2025-03-24T15:24:48.916232Z"
    },
    "trusted": true
   },
   "outputs": [
    {
     "name": "stdout",
     "output_type": "stream",
     "text": [
      "Collecting gitingest\n",
      "  Downloading gitingest-0.1.4-py3-none-any.whl.metadata (8.2 kB)\n",
      "Requirement already satisfied: click>=8.0.0 in /usr/local/lib/python3.10/dist-packages (from gitingest) (8.1.7)\n",
      "Requirement already satisfied: tiktoken in /usr/local/lib/python3.10/dist-packages (from gitingest) (0.9.0)\n",
      "Requirement already satisfied: tomli in /usr/local/lib/python3.10/dist-packages (from gitingest) (2.2.1)\n",
      "Requirement already satisfied: regex>=2022.1.18 in /usr/local/lib/python3.10/dist-packages (from tiktoken->gitingest) (2024.11.6)\n",
      "Requirement already satisfied: requests>=2.26.0 in /usr/local/lib/python3.10/dist-packages (from tiktoken->gitingest) (2.32.3)\n",
      "Requirement already satisfied: charset-normalizer<4,>=2 in /usr/local/lib/python3.10/dist-packages (from requests>=2.26.0->tiktoken->gitingest) (3.4.1)\n",
      "Requirement already satisfied: idna<4,>=2.5 in /usr/local/lib/python3.10/dist-packages (from requests>=2.26.0->tiktoken->gitingest) (3.10)\n",
      "Requirement already satisfied: urllib3<3,>=1.21.1 in /usr/local/lib/python3.10/dist-packages (from requests>=2.26.0->tiktoken->gitingest) (2.3.0)\n",
      "Requirement already satisfied: certifi>=2017.4.17 in /usr/local/lib/python3.10/dist-packages (from requests>=2.26.0->tiktoken->gitingest) (2025.1.31)\n",
      "Downloading gitingest-0.1.4-py3-none-any.whl (40 kB)\n",
      "\u001b[2K   \u001b[90m━━━━━━━━━━━━━━━━━━━━━━━━━━━━━━━━━━━━━━━━\u001b[0m \u001b[32m40.8/40.8 kB\u001b[0m \u001b[31m1.3 MB/s\u001b[0m eta \u001b[36m0:00:00\u001b[0m\n",
      "\u001b[?25hInstalling collected packages: gitingest\n",
      "Successfully installed gitingest-0.1.4\n",
      "Collecting pinecone\n",
      "  Downloading pinecone-6.0.2-py3-none-any.whl.metadata (9.0 kB)\n",
      "Requirement already satisfied: certifi>=2019.11.17 in /usr/local/lib/python3.10/dist-packages (from pinecone) (2025.1.31)\n",
      "Collecting pinecone-plugin-interface<0.0.8,>=0.0.7 (from pinecone)\n",
      "  Downloading pinecone_plugin_interface-0.0.7-py3-none-any.whl.metadata (1.2 kB)\n",
      "Requirement already satisfied: python-dateutil>=2.5.3 in /usr/local/lib/python3.10/dist-packages (from pinecone) (2.9.0.post0)\n",
      "Requirement already satisfied: typing-extensions>=3.7.4 in /usr/local/lib/python3.10/dist-packages (from pinecone) (4.12.2)\n",
      "Requirement already satisfied: urllib3>=1.26.0 in /usr/local/lib/python3.10/dist-packages (from pinecone) (2.3.0)\n",
      "Requirement already satisfied: six>=1.5 in /usr/local/lib/python3.10/dist-packages (from python-dateutil>=2.5.3->pinecone) (1.17.0)\n",
      "Downloading pinecone-6.0.2-py3-none-any.whl (421 kB)\n",
      "\u001b[2K   \u001b[90m━━━━━━━━━━━━━━━━━━━━━━━━━━━━━━━━━━━━━━━━\u001b[0m \u001b[32m421.9/421.9 kB\u001b[0m \u001b[31m13.2 MB/s\u001b[0m eta \u001b[36m0:00:00\u001b[0m\n",
      "\u001b[?25hDownloading pinecone_plugin_interface-0.0.7-py3-none-any.whl (6.2 kB)\n",
      "Installing collected packages: pinecone-plugin-interface, pinecone\n",
      "Successfully installed pinecone-6.0.2 pinecone-plugin-interface-0.0.7\n"
     ]
    }
   ],
   "source": [
    "!pip install gitingest\n",
    "!pip install pinecone"
   ]
  },
  {
   "cell_type": "code",
   "execution_count": 3,
   "metadata": {
    "execution": {
     "iopub.execute_input": "2025-03-24T15:25:00.102131Z",
     "iopub.status.busy": "2025-03-24T15:25:00.101782Z",
     "iopub.status.idle": "2025-03-24T15:25:00.528273Z",
     "shell.execute_reply": "2025-03-24T15:25:00.527178Z",
     "shell.execute_reply.started": "2025-03-24T15:25:00.102100Z"
    },
    "trusted": true
   },
   "outputs": [],
   "source": [
    "import re\n",
    "import asyncio\n",
    "from gitingest import ingest_async\n",
    "from pinecone import Pinecone"
   ]
  },
  {
   "cell_type": "code",
   "execution_count": 8,
   "metadata": {
    "execution": {
     "iopub.execute_input": "2025-03-24T06:59:36.832621Z",
     "iopub.status.busy": "2025-03-24T06:59:36.832277Z",
     "iopub.status.idle": "2025-03-24T06:59:39.101432Z",
     "shell.execute_reply": "2025-03-24T06:59:39.100172Z",
     "shell.execute_reply.started": "2025-03-24T06:59:36.832571Z"
    },
    "trusted": true
   },
   "outputs": [],
   "source": [
    "summary, tree, content = await ingest_async(\"https://github.com/coder-zs-cse/zencode-frontend\")"
   ]
  },
  {
   "cell_type": "code",
   "execution_count": 9,
   "metadata": {
    "execution": {
     "iopub.execute_input": "2025-03-24T06:59:42.524693Z",
     "iopub.status.busy": "2025-03-24T06:59:42.524352Z",
     "iopub.status.idle": "2025-03-24T06:59:42.532188Z",
     "shell.execute_reply": "2025-03-24T06:59:42.531011Z",
     "shell.execute_reply.started": "2025-03-24T06:59:42.524666Z"
    },
    "trusted": true
   },
   "outputs": [],
   "source": [
    "sections = re.split(r'={48}', content)"
   ]
  },
  {
   "cell_type": "code",
   "execution_count": 10,
   "metadata": {
    "execution": {
     "iopub.execute_input": "2025-03-24T06:59:47.746133Z",
     "iopub.status.busy": "2025-03-24T06:59:47.745749Z",
     "iopub.status.idle": "2025-03-24T06:59:47.751815Z",
     "shell.execute_reply": "2025-03-24T06:59:47.750683Z",
     "shell.execute_reply.started": "2025-03-24T06:59:47.746103Z"
    },
    "trusted": true
   },
   "outputs": [],
   "source": [
    "fetchedComponents = []\n",
    "# Iterate through the sections and extract file names,file contents and paths\n",
    "j = 0\n",
    "for i in range(1, len(sections), 2):\n",
    "   path = sections[i].strip().split(': ')[1]\n",
    "   file_content = sections[i + 1].strip()\n",
    "   fetchedComponents.append({'file': path.split(\"/\")[-1],'fileContent':file_content,'path':path})\n",
    "   j = j + 1\n"
   ]
  },
  {
   "cell_type": "code",
   "execution_count": 4,
   "metadata": {
    "execution": {
     "iopub.execute_input": "2025-03-24T15:25:07.548605Z",
     "iopub.status.busy": "2025-03-24T15:25:07.548253Z",
     "iopub.status.idle": "2025-03-24T15:25:09.279538Z",
     "shell.execute_reply": "2025-03-24T15:25:09.278396Z",
     "shell.execute_reply.started": "2025-03-24T15:25:07.548568Z"
    },
    "trusted": true
   },
   "outputs": [],
   "source": [
    "from openai import OpenAI\n",
    "import json\n",
    "import uuid"
   ]
  },
  {
   "cell_type": "code",
   "execution_count": 13,
   "metadata": {
    "execution": {
     "iopub.execute_input": "2025-03-24T07:00:05.416336Z",
     "iopub.status.busy": "2025-03-24T07:00:05.416018Z",
     "iopub.status.idle": "2025-03-24T07:00:05.420383Z",
     "shell.execute_reply": "2025-03-24T07:00:05.419303Z",
     "shell.execute_reply.started": "2025-03-24T07:00:05.416311Z"
    },
    "trusted": true
   },
   "outputs": [],
   "source": [
    "\n",
    "# # for backward compatibility, you can still use `https://api.deepseek.com/v1` as `base_url`.\n",
    "# response = client.chat.completions.create(\n",
    "#     model=\"deepseek-chat\",\n",
    "#     messages=[\n",
    "#         {\"role\": \"system\", \"content\": systemPrompt},\n",
    "#         {\"role\": \"user\", \"content\": basePrompt+\"\\n the location of the file in the external project is: \"},\n",
    "#   ],\n",
    "#     max_tokens=1024,\n",
    "#     temperature=0.7,\n",
    "#     stream=False\n",
    "# )\n",
    "\n",
    "# print(response.choices[0].message.content)"
   ]
  },
  {
   "cell_type": "code",
   "execution_count": null,
   "metadata": {
    "execution": {
     "iopub.execute_input": "2025-03-24T15:25:14.064860Z",
     "iopub.status.busy": "2025-03-24T15:25:14.064356Z",
     "iopub.status.idle": "2025-03-24T15:25:14.404290Z",
     "shell.execute_reply": "2025-03-24T15:25:14.403176Z",
     "shell.execute_reply.started": "2025-03-24T15:25:14.064801Z"
    },
    "trusted": true
   },
   "outputs": [],
   "source": [
    "client = OpenAI(api_key=\"sk-fff\", base_url=\"https://api.deepseek.com\")"
   ]
  },
  {
   "cell_type": "code",
   "execution_count": 15,
   "metadata": {
    "execution": {
     "iopub.execute_input": "2025-03-24T07:00:17.547096Z",
     "iopub.status.busy": "2025-03-24T07:00:17.546742Z",
     "iopub.status.idle": "2025-03-24T07:00:17.551939Z",
     "shell.execute_reply": "2025-03-24T07:00:17.550812Z",
     "shell.execute_reply.started": "2025-03-24T07:00:17.547070Z"
    },
    "trusted": true
   },
   "outputs": [],
   "source": [
    "systemPrompt = \"\"\"\n",
    "You are a expert full stack developer with expertise in node js, react js and next js. output all responses in JSON blobs only\n",
    "\"\"\""
   ]
  },
  {
   "cell_type": "code",
   "execution_count": 16,
   "metadata": {
    "execution": {
     "iopub.execute_input": "2025-03-24T07:00:18.452058Z",
     "iopub.status.busy": "2025-03-24T07:00:18.451731Z",
     "iopub.status.idle": "2025-03-24T07:00:18.456000Z",
     "shell.execute_reply": "2025-03-24T07:00:18.455149Z",
     "shell.execute_reply.started": "2025-03-24T07:00:18.452033Z"
    },
    "trusted": true
   },
   "outputs": [],
   "source": [
    "basePrompt=\"\"\"\n",
    "given below is a javascript file of a react js project, analyse and extract all components that can be exported. generate a json blob doe every exportable components consisting of the following fields 'name':name of the component,  'description': a detailed description of what the component does, 'returnType': what the component returns, 'inputParams': list of all input variable type, name and description, incase of c class or interface mention in the variable type an description, 'import': how to import the component from another project, 'example': brief code example importing and using the component in another project always return the response in list of json objects   \n",
    "\"\"\""
   ]
  },
  {
   "cell_type": "code",
   "execution_count": 17,
   "metadata": {
    "execution": {
     "iopub.execute_input": "2025-03-24T07:00:19.696129Z",
     "iopub.status.busy": "2025-03-24T07:00:19.695730Z",
     "iopub.status.idle": "2025-03-24T07:00:19.700887Z",
     "shell.execute_reply": "2025-03-24T07:00:19.699685Z",
     "shell.execute_reply.started": "2025-03-24T07:00:19.696099Z"
    },
    "trusted": true
   },
   "outputs": [],
   "source": [
    "jsonChunks = []"
   ]
  },
  {
   "cell_type": "code",
   "execution_count": 19,
   "metadata": {
    "execution": {
     "iopub.execute_input": "2025-03-24T07:01:57.004527Z",
     "iopub.status.busy": "2025-03-24T07:01:57.004197Z",
     "iopub.status.idle": "2025-03-24T07:14:07.150836Z",
     "shell.execute_reply": "2025-03-24T07:14:07.150034Z",
     "shell.execute_reply.started": "2025-03-24T07:01:57.004502Z"
    },
    "trusted": true
   },
   "outputs": [
    {
     "name": "stdout",
     "output_type": "stream",
     "text": [
      "Path: src/api/axios.ts\n",
      "Appended JSON objects:\n",
      "{'name': 'axiosSecure', 'description': 'An Axios instance configured with secure settings, including request and response interceptors for handling authentication tokens.', 'returnType': 'AxiosInstance', 'inputParams': [], 'import': \"import { axiosSecure } from 'src/api/axios';\", 'example': \"import { axiosSecure } from 'src/api/axios';\\n\\naxiosSecure.get('/some-endpoint').then(response => {\\n  console.log(response.data);\\n}).catch(error => {\\n  console.error(error);\\n});\"}\n",
      "{'name': 'axiosOpen', 'description': 'An Axios instance configured without secure settings, suitable for public API requests that do not require authentication.', 'returnType': 'AxiosInstance', 'inputParams': [], 'import': \"import { axiosOpen } from 'src/api/axios';\", 'example': \"import { axiosOpen } from 'src/api/axios';\\n\\naxiosOpen.get('/public-endpoint').then(response => {\\n  console.log(response.data);\\n}).catch(error => {\\n  console.error(error);\\n});\"}\n",
      "Path: src/api/index.ts\n",
      "Appended JSON objects:\n",
      "{'name': 'chat_endpoint', 'description': 'Exports the chat endpoint configuration or functionality from the chat module.', 'returnType': 'Object or Function', 'inputParams': [], 'import': \"import { chat_endpoint } from 'src/api/index';\", 'example': \"import { chat_endpoint } from 'src/api/index';\\n\\n// Usage example\\nconsole.log(chat_endpoint);\"}\n",
      "{'name': 'template_endpoint', 'description': 'Exports the template endpoint configuration or functionality from the template module.', 'returnType': 'Object or Function', 'inputParams': [], 'import': \"import { template_endpoint } from 'src/api/index';\", 'example': \"import { template_endpoint } from 'src/api/index';\\n\\n// Usage example\\nconsole.log(template_endpoint);\"}\n",
      "Path: src/api/chat/chat.ts\n",
      "Appended JSON objects:\n",
      "{'name': 'chat_endpoint', 'description': 'This function is an asynchronous function that makes a GET request to a chat API endpoint using axios. It logs the response or error to the console and returns the data from the response.', 'returnType': 'Promise<any>', 'inputParams': [], 'import': \"import { chat_endpoint } from 'src/api/chat/chat';\", 'example': \"import { chat_endpoint } from 'src/api/chat/chat';\\n\\nasync function fetchChatData() {\\n    try {\\n        const data = await chat_endpoint();\\n        console.log('Chat Data:', data);\\n    } catch (error) {\\n        console.error('Failed to fetch chat data:', error);\\n    }\\n}\"}\n",
      "Path: src/api/template/template.ts\n",
      "Appended JSON objects:\n",
      "{'name': 'template_endpoint', 'description': 'This function is an asynchronous function that makes a GET request to a predefined template endpoint using Axios. It returns the data from the response if successful, or throws an error if the request fails.', 'returnType': 'Promise<templateAPIResponse>', 'inputParams': [], 'import': \"import { template_endpoint } from 'src/api/template/template';\", 'example': \"import { template_endpoint } from 'src/api/template/template';\\n\\nasync function fetchTemplateData() {\\n  try {\\n    const data = await template_endpoint();\\n    console.log(data);\\n  } catch (error) {\\n    console.error('Failed to fetch template data:', error);\\n  }\\n}\"}\n",
      "Path: src/components/builder/builder.tsx\n",
      "Appended JSON objects:\n",
      "{'name': 'Builder', 'description': 'The main component of the builder interface. It manages the state of the file structure, progress steps, and the active view (editor or preview). It also fetches template data from an API and updates the state accordingly.', 'returnType': 'JSX.Element', 'inputParams': [], 'import': \"import Builder from '@/components/builder/builder';\", 'example': \"import Builder from '@/components/builder/builder';\\n\\nfunction App() {\\n  return (\\n    <div>\\n      <Builder />\\n    </div>\\n  );\\n}\"}\n",
      "Path: src/components/builder/index.ts\n",
      "Appended JSON objects:\n",
      "{'name': 'Builder', 'description': \"The Builder component is likely a utility or a higher-order component that assists in constructing or managing other components or data structures within the application. Its exact functionality would depend on the implementation details within the './builder' file.\", 'returnType': 'React.Component or JSX.Element', 'inputParams': [], 'import': \"import { Builder } from 'src/components/builder';\", 'example': \"import React from 'react';\\nimport { Builder } from 'src/components/builder';\\n\\nfunction App() {\\n  return (\\n    <div>\\n      <Builder />\\n    </div>\\n  );\\n}\\n\\nexport default App;\"}\n",
      "Path: src/components/builder/sections/CodeEditor.tsx\n",
      "Appended JSON objects:\n",
      "{'name': 'CodeEditor', 'description': 'A React component that renders a code editor using Monaco Editor. It allows users to edit code in a selected file, with options for read-only mode and handling changes.', 'returnType': 'JSX.Element', 'inputParams': [{'type': 'FileNode | null', 'name': 'selectedFile', 'description': 'The file node object containing the content to be edited. If null, a placeholder message is displayed.'}, {'type': 'boolean', 'name': 'readOnly', 'description': 'A boolean flag to determine if the editor should be in read-only mode. Defaults to true.'}, {'type': '(value: string | undefined) => void', 'name': 'onChange', 'description': 'A callback function that is triggered when the content of the editor changes. It receives the new value of the editor content.'}], 'import': \"import { CodeEditor } from 'src/components/builder/sections/CodeEditor';\", 'example': \"import React from 'react';\\nimport { CodeEditor } from 'src/components/builder/sections/CodeEditor';\\n\\nconst App = () => {\\n  const handleChange = (value) => {\\n    console.log('Content changed:', value);\\n  };\\n\\n  return (\\n    <CodeEditor\\n      selectedFile={{ content: '// Your code here' }}\\n      readOnly={false}\\n      onChange={handleChange}\\n    />\\n  );\\n};\\n\\nexport default App;\"}\n",
      "Path: src/components/builder/sections/FileExplorer.tsx\n",
      "Appended JSON objects:\n",
      "{'name': 'FileExplorer', 'description': 'A React component that renders a file explorer interface. It allows users to navigate through a hierarchical file structure, expand/collapse folders, and select files. The component visually differentiates between folders and files and highlights the selected file.', 'returnType': 'JSX.Element', 'inputParams': [{'type': 'FileNode[]', 'name': 'FileNode', 'description': \"An array of FileNode objects representing the file structure to be displayed. Each FileNode contains properties like 'name', 'type', and optionally 'children' for folders.\"}, {'type': '(file: FileNode) => void', 'name': 'onFileSelect', 'description': 'A callback function that is triggered when a file is selected. It receives the selected FileNode as an argument.'}, {'type': 'FileNode | null', 'name': 'selectedFile', 'description': 'The currently selected file, represented as a FileNode object. If no file is selected, this value is null.'}], 'import': \"import { FileExplorer } from 'src/components/builder/sections/FileExplorer';\", 'example': \"import { FileExplorer } from 'src/components/builder/sections/FileExplorer';\\n\\nconst fileStructure = [\\n  { name: 'folder1', type: 'folder', children: [\\n    { name: 'file1.txt', type: 'file' }\\n  ]},\\n  { name: 'file2.txt', type: 'file' }\\n];\\n\\nconst handleFileSelect = (file) => {\\n  console.log('Selected file:', file);\\n};\\n\\nconst selectedFile = null;\\n\\nfunction App() {\\n  return (\\n    <FileExplorer\\n      FileNode={fileStructure}\\n      onFileSelect={handleFileSelect}\\n      selectedFile={selectedFile}\\n    />\\n  );\\n}\"}\n",
      "Path: src/components/builder/sections/PreviewPage.tsx\n",
      "Appended JSON objects:\n",
      "{'name': 'PreviewFrame', 'description': 'A React component that renders a preview frame based on the provided web container state. It displays either an error message, a loading status, or an iframe with the provided URL.', 'returnType': 'JSX.Element', 'inputParams': [{'type': 'PreviewFrameProps', 'name': 'webContainer', 'description': 'An object containing the web container state, including the container instance, URL, status, and error message.'}], 'import': \"import { PreviewFrame } from 'src/components/builder/sections/PreviewPage';\", 'example': \"import { PreviewFrame } from 'src/components/builder/sections/PreviewPage';\\n\\nconst webContainerState = {\\n  container: null,\\n  url: 'https://example.com',\\n  status: 'Loading...',\\n  error: null\\n};\\n\\nfunction App() {\\n  return (\\n    <PreviewFrame webContainer={webContainerState} />\\n  );\\n}\"}\n",
      "Path: src/components/builder/sections/ProgressSteps.tsx\n",
      "Appended JSON objects:\n",
      "{'name': 'ProgressSteps', 'description': 'A React component that renders a progress timeline with steps. Each step can have a status (PENDING, IN_PROGRESS, COMPLETED) and a type (e.g., CreateFile, RunScript). The component displays icons, status indicators, and step descriptions based on the step type and status.', 'returnType': 'JSX.Element', 'inputParams': [{'type': 'Step[]', 'name': 'steps', 'description': 'An array of Step objects, where each Step object contains a title, status, type, and description.'}], 'import': \"import { ProgressSteps } from 'src/components/builder/sections/ProgressSteps';\", 'example': \"import { ProgressSteps } from 'src/components/builder/sections/ProgressSteps';\\n\\nconst steps = [\\n  { title: 'Step 1', status: StepStatus.PENDING, type: StepType.CreateFile, description: 'Create a new file' },\\n  { title: 'Step 2', status: StepStatus.IN_PROGRESS, type: StepType.RunScript, description: 'Run a script' }\\n];\\n\\nconst MyComponent = () => (\\n  <ProgressSteps steps={steps} />\\n);\"}\n",
      "{'name': 'StepStatus', 'description': 'An enum representing the status of a step in the progress timeline. Possible values are PENDING, IN_PROGRESS, and COMPLETED.', 'returnType': 'enum', 'inputParams': [], 'import': \"import { StepStatus } from 'src/components/builder/sections/ProgressSteps';\", 'example': \"import { StepStatus } from 'src/components/builder/sections/ProgressSteps';\\n\\nconst status = StepStatus.PENDING;\"}\n",
      "{'name': 'StepObject', 'description': 'An interface representing a step object in the progress timeline. It contains a title and a status.', 'returnType': 'interface', 'inputParams': [{'type': 'string', 'name': 'title', 'description': 'The title of the step.'}, {'type': 'StepStatus', 'name': 'status', 'description': 'The status of the step, which can be PENDING, IN_PROGRESS, or COMPLETED.'}], 'import': \"import { StepObject } from 'src/components/builder/sections/ProgressSteps';\", 'example': \"import { StepObject, StepStatus } from 'src/components/builder/sections/ProgressSteps';\\n\\nconst step: StepObject = {\\n  title: 'Step 1',\\n  status: StepStatus.PENDING\\n};\"}\n",
      "Path: src/components/builder/sections/PromptField.tsx\n",
      "Appended JSON objects:\n",
      "{'name': 'PromptField', 'description': \"A React component that renders a form with a text area for user input and a submit button. It captures the user's input and logs 'success' to the console when the form is submitted with a non-empty input.\", 'returnType': 'JSX.Element', 'inputParams': [], 'import': \"import { PromptField } from 'src/components/builder/sections/PromptField';\", 'example': \"import { PromptField } from 'src/components/builder/sections/PromptField';\\n\\nfunction App() {\\n  return (\\n    <div>\\n      <PromptField />\\n    </div>\\n  );\\n}\\n\\nexport default App;\"}\n",
      "Path: src/components/builder/sections/index.ts\n",
      "Appended JSON objects:\n",
      "{'name': 'CodeEditor', 'description': 'A component that provides a code editing interface, likely with syntax highlighting and other code-related features.', 'returnType': 'React.Component', 'inputParams': [], 'import': \"import { CodeEditor } from 'src/components/builder/sections';\", 'example': \"import { CodeEditor } from 'src/components/builder/sections';\\n\\nfunction App() {\\n  return (\\n    <div>\\n      <CodeEditor />\\n    </div>\\n  );\\n}\"}\n",
      "{'name': 'PreviewPage', 'description': 'A component that renders a preview of content, possibly used for displaying the output of code or other dynamic content.', 'returnType': 'React.Component', 'inputParams': [], 'import': \"import { PreviewPage } from 'src/components/builder/sections';\", 'example': \"import { PreviewPage } from 'src/components/builder/sections';\\n\\nfunction App() {\\n  return (\\n    <div>\\n      <PreviewPage />\\n    </div>\\n  );\\n}\"}\n",
      "{'name': 'ProgressSteps', 'description': 'A component that displays a series of steps or progress indicators, often used in multi-step forms or wizards.', 'returnType': 'React.Component', 'inputParams': [], 'import': \"import { ProgressSteps } from 'src/components/builder/sections';\", 'example': \"import { ProgressSteps } from 'src/components/builder/sections';\\n\\nfunction App() {\\n  return (\\n    <div>\\n      <ProgressSteps />\\n    </div>\\n  );\\n}\"}\n",
      "{'name': 'FileExplorer', 'description': 'A component that provides a file browsing interface, allowing users to navigate and select files or directories.', 'returnType': 'React.Component', 'inputParams': [], 'import': \"import { FileExplorer } from 'src/components/builder/sections';\", 'example': \"import { FileExplorer } from 'src/components/builder/sections';\\n\\nfunction App() {\\n  return (\\n    <div>\\n      <FileExplorer />\\n    </div>\\n  );\\n}\"}\n",
      "{'name': 'PromptField', 'description': 'A component that provides an input field for user prompts, possibly used for gathering user input or commands.', 'returnType': 'React.Component', 'inputParams': [], 'import': \"import { PromptField } from 'src/components/builder/sections';\", 'example': \"import { PromptField } from 'src/components/builder/sections';\\n\\nfunction App() {\\n  return (\\n    <div>\\n      <PromptField />\\n    </div>\\n  );\\n}\"}\n",
      "Path: src/components/landing/landing-page.tsx\n",
      "Appended JSON objects:\n",
      "{'name': 'LandingPage', 'description': \"The main landing page component for the ZenCode AI application. It includes a form for users to describe their dream website and a set of feature cards highlighting the application's capabilities.\", 'returnType': 'JSX.Element', 'inputParams': [], 'import': \"import LandingPage from 'src/components/landing/landing-page';\", 'example': \"import LandingPage from 'src/components/landing/landing-page';\\n\\nfunction App() {\\n  return (\\n    <div>\\n      <LandingPage />\\n    </div>\\n  );\\n}\"}\n",
      "Path: src/components/ui/index.tsx\n",
      "Appended JSON objects:\n",
      "{'name': 'Title', 'description': 'A component that renders a title text, typically used for headings or main titles in the UI.', 'returnType': 'ReactElement', 'inputParams': [], 'import': \"import { Title } from 'src/components/ui';\", 'example': \"import { Title } from 'src/components/ui';\\n\\nfunction App() {\\n  return <Title>Welcome to Our Site</Title>;\\n}\"}\n",
      "{'name': 'Subtitle', 'description': 'A component that renders a subtitle text, typically used under the main title to provide additional context or information.', 'returnType': 'ReactElement', 'inputParams': [], 'import': \"import { Subtitle } from 'src/components/ui';\", 'example': \"import { Subtitle } from 'src/components/ui';\\n\\nfunction App() {\\n  return <Subtitle>Explore our features</Subtitle>;\\n}\"}\n",
      "{'name': 'Textarea', 'description': 'A component that renders a textarea input field, allowing users to input multi-line text.', 'returnType': 'ReactElement', 'inputParams': [], 'import': \"import { Textarea } from 'src/components/ui';\", 'example': \"import { Textarea } from 'src/components/ui';\\n\\nfunction App() {\\n  return <Textarea placeholder='Enter your comments here...' />;\\n}\"}\n",
      "{'name': 'Button', 'description': 'A component that renders a button, which can be used to trigger actions or events in the UI.', 'returnType': 'ReactElement', 'inputParams': [], 'import': \"import { Button } from 'src/components/ui';\", 'example': \"import { Button } from 'src/components/ui';\\n\\nfunction App() {\\n  return <Button onClick={() => alert('Button clicked!')}>Click Me</Button>;\\n}\"}\n",
      "{'name': 'Filetree', 'description': 'A component that renders a file tree structure, typically used to display hierarchical data like directories and files.', 'returnType': 'ReactElement', 'inputParams': [], 'import': \"import { Filetree } from 'src/components/ui';\", 'example': \"import { Filetree } from 'src/components/ui';\\n\\nfunction App() {\\n  return <Filetree data={treeData} />;\\n}\"}\n",
      "{'name': 'FeatureCard', 'description': 'A component that renders a card displaying a feature, typically used in feature sections or product showcases.', 'returnType': 'ReactElement', 'inputParams': [], 'import': \"import { FeatureCard } from 'src/components/ui';\", 'example': \"import { FeatureCard } from 'src/components/ui';\\n\\nfunction App() {\\n  return <FeatureCard title='Fast Performance' description='Experience blazing fast speeds.' />;\\n}\"}\n",
      "{'name': 'CapsuleToggle', 'description': 'A component that renders a toggle switch in a capsule shape, typically used for settings or options that can be toggled on or off.', 'returnType': 'ReactElement', 'inputParams': [], 'import': \"import { CapsuleToggle } from 'src/components/ui';\", 'example': \"import { CapsuleToggle } from 'src/components/ui';\\n\\nfunction App() {\\n  return <CapsuleToggle onChange={(isToggled) => console.log(isToggled)} />;\\n}\"}\n",
      "{'name': 'Navbar', 'description': 'A component that renders a navigation bar, typically used at the top of a webpage to provide navigation links.', 'returnType': 'ReactElement', 'inputParams': [], 'import': \"import { Navbar } from 'src/components/ui';\", 'example': \"import { Navbar } from 'src/components/ui';\\n\\nfunction App() {\\n  return <Navbar links={['Home', 'About', 'Contact']} />;\\n}\"}\n",
      "Path: src/components/ui/button/button.tsx\n",
      "Appended JSON objects:\n",
      "{'name': 'Button', 'description': 'A reusable button component that triggers a function when clicked. It includes an icon and text, and is styled with Tailwind CSS.', 'returnType': 'JSX.Element', 'inputParams': [{'type': 'ButtonProps', 'name': 'onClick', 'description': 'A function that is called when the button is clicked. It accepts an event object as its parameter.'}], 'import': \"import { Button } from 'src/components/ui/button/button';\", 'example': \"import { Button } from 'src/components/ui/button/button';\\n\\nconst handleClick = (e) => {\\n  console.log('Button clicked!', e);\\n};\\n\\nconst App = () => (\\n  <div>\\n    <Button onClick={handleClick} />\\n  </div>\\n);\"}\n",
      "Path: src/components/ui/feature-card/feature-card.tsx\n",
      "Appended JSON objects:\n",
      "{'name': 'FeatureCard', 'description': 'A React functional component that renders a feature card with an icon, title, and description.', 'returnType': 'React.FC<FeatureCardProps>', 'inputParams': [{'type': 'React.ReactNode', 'name': 'icon', 'description': 'The icon to be displayed on the feature card.'}, {'type': 'string', 'name': 'title', 'description': 'The title of the feature card.'}, {'type': 'string', 'name': 'description', 'description': 'The description text of the feature card.'}], 'import': \"import { FeatureCard } from 'src/components/ui/feature-card/feature-card';\", 'example': 'import { FeatureCard } from \\'src/components/ui/feature-card/feature-card\\';\\n\\nconst MyComponent = () => (\\n  <FeatureCard\\n    icon={<SomeIconComponent />}\\n    title=\"Feature Title\"\\n    description=\"This is a description of the feature.\"\\n  />\\n);'}\n",
      "Path: src/components/ui/filetree/filetree.tsx\n",
      "Appended JSON objects:\n",
      "{'name': 'FileTree', 'description': 'A React component that renders a file tree structure. It supports expanding and collapsing folders, and selecting files. The component uses icons to represent folders and files, and highlights the selected file.', 'returnType': 'JSX.Element', 'inputParams': [{'type': 'FileNode[]', 'name': 'items', 'description': 'An array of FileNode objects representing the files and folders to be displayed in the tree.'}, {'type': 'Set<string>', 'name': 'expandedFolders', 'description': 'A Set containing the paths of currently expanded folders.'}, {'type': '(path: string) => void', 'name': 'toggleFolder', 'description': 'A callback function that toggles the expansion state of a folder when clicked.'}, {'type': 'string | null', 'name': 'selectedFile', 'description': 'The path of the currently selected file, or null if no file is selected.'}, {'type': '(file: string | null) => void', 'name': 'setSelectedFile', 'description': 'A callback function that sets the currently selected file when a file is clicked.'}], 'import': \"import { FileTree } from 'src/components/ui/filetree/filetree';\", 'example': \"import { FileTree } from 'src/components/ui/filetree/filetree';\\n\\nconst MyComponent = () => {\\n  const [expandedFolders, setExpandedFolders] = React.useState(new Set());\\n  const [selectedFile, setSelectedFile] = React.useState(null);\\n\\n  const toggleFolder = (path) => {\\n    const newExpandedFolders = new Set(expandedFolders);\\n    if (newExpandedFolders.has(path)) {\\n      newExpandedFolders.delete(path);\\n    } else {\\n      newExpandedFolders.add(path);\\n    }\\n    setExpandedFolders(newExpandedFolders);\\n  };\\n\\n  const fileTreeItems = [\\n    { name: 'folder1', type: 'folder', children: [\\n      { name: 'file1.txt', type: 'file' }\\n    ]},\\n    { name: 'file2.txt', type: 'file' }\\n  ];\\n\\n  return (\\n    <FileTree\\n      items={fileTreeItems}\\n      expandedFolders={expandedFolders}\\n      toggleFolder={toggleFolder}\\n      selectedFile={selectedFile}\\n      setSelectedFile={setSelectedFile}\\n    />\\n  );\\n};\"}\n",
      "Path: src/components/ui/navbar/navbar.tsx\n",
      "Appended JSON objects:\n",
      "{'name': 'IndexingIndicator', 'description': 'A component that displays an animated indicator and text to show that indexing is in progress.', 'returnType': 'JSX.Element', 'inputParams': [], 'import': \"import { IndexingIndicator } from 'src/components/ui/navbar/navbar';\", 'example': \"import { IndexingIndicator } from 'src/components/ui/navbar/navbar';\\n\\nfunction App() {\\n  return (\\n    <div>\\n      <IndexingIndicator />\\n    </div>\\n  );\\n}\"}\n",
      "{'name': 'SettingsModal', 'description': 'A modal component that allows users to configure settings, including GitHub repository URL and authorization token.', 'returnType': 'JSX.Element | null', 'inputParams': [{'type': 'boolean', 'name': 'isOpen', 'description': 'Controls whether the modal is open or closed.'}, {'type': '() => void', 'name': 'onClose', 'description': 'Function to close the modal.'}], 'import': \"import { SettingsModal } from 'src/components/ui/navbar/navbar';\", 'example': \"import { SettingsModal } from 'src/components/ui/navbar/navbar';\\n\\nfunction App() {\\n  const [isOpen, setIsOpen] = useState(false);\\n\\n  return (\\n    <div>\\n      <button onClick={() => setIsOpen(true)}>Open Settings</button>\\n      <SettingsModal isOpen={isOpen} onClose={() => setIsOpen(false)} />\\n    </div>\\n  );\\n}\"}\n",
      "{'name': 'Navbar', 'description': 'A navigation bar component that includes an indexing indicator, export button, and settings button. It also manages the state for the settings modal and success popup.', 'returnType': 'JSX.Element', 'inputParams': [{'type': 'Step[]', 'name': 'template', 'description': 'An array of steps that define the template to be exported.'}], 'import': \"import { Navbar } from 'src/components/ui/navbar/navbar';\", 'example': \"import { Navbar } from 'src/components/ui/navbar/navbar';\\n\\nfunction App() {\\n  const template = [\\n    // Define your steps here\\n  ];\\n\\n  return (\\n    <div>\\n      <Navbar template={template} />\\n    </div>\\n  );\\n}\"}\n",
      "Path: src/components/ui/subtitle/subtitle.tsx\n",
      "Appended JSON objects:\n",
      "{'name': 'Subtitle', 'description': 'A React functional component that renders a subtitle text with specific styling.', 'returnType': 'JSX.Element', 'inputParams': [{'type': 'string', 'name': 'text', 'description': 'The text content to be displayed as the subtitle.'}], 'import': \"import { Subtitle } from 'src/components/ui/subtitle/subtitle';\", 'example': 'import React from \\'react\\';\\nimport { Subtitle } from \\'src/components/ui/subtitle/subtitle\\';\\n\\nconst ExampleComponent = () => (\\n  <div>\\n    <Subtitle text=\"This is a subtitle\" />\\n  </div>\\n);\\n\\nexport default ExampleComponent;'}\n",
      "Path: src/components/ui/success-popup/sucess-popup.tsx\n",
      "Appended JSON objects:\n",
      "{'name': 'SuccessPopup', 'description': 'A React component that displays a success popup message with a checkmark icon, indicating that files have been exported successfully.', 'returnType': 'JSX.Element', 'inputParams': [], 'import': \"import { SuccessPopup } from 'src/components/ui/success-popup/success-popup';\", 'example': \"import React from 'react';\\nimport { SuccessPopup } from 'src/components/ui/success-popup/success-popup';\\n\\nconst App = () => (\\n  <div>\\n    <h1>File Export Status</h1>\\n    <SuccessPopup />\\n  </div>\\n);\\n\\nexport default App;\"}\n",
      "Path: src/components/ui/textarea/textarea.tsx\n",
      "Appended JSON objects:\n",
      "{'name': 'TextArea', 'description': 'A reusable textarea component that allows users to input multi-line text. It supports controlled input with value and onChange props, and optionally handles key down events.', 'returnType': 'JSX.Element', 'inputParams': [{'type': 'string', 'name': 'value', 'description': 'The current value of the textarea.'}, {'type': '(e: React.ChangeEvent<HTMLTextAreaElement>) => void', 'name': 'onChange', 'description': 'Callback function triggered when the textarea value changes.'}, {'type': 'string', 'name': 'placeholder', 'description': 'Placeholder text displayed when the textarea is empty.'}, {'type': '(e: React.KeyboardEvent<HTMLTextAreaElement>) => void', 'name': 'onKeyDown', 'description': 'Optional callback function triggered when a key is pressed down in the textarea.'}], 'import': \"import { TextArea } from 'src/components/ui/textarea/textarea';\", 'example': 'import { TextArea } from \\'src/components/ui/textarea/textarea\\';\\n\\nconst MyComponent = () => {\\n  const [value, setValue] = React.useState(\\'\\');\\n\\n  const handleChange = (e) => {\\n    setValue(e.target.value);\\n  };\\n\\n  return (\\n    <TextArea\\n      value={value}\\n      onChange={handleChange}\\n      placeholder=\"Enter your text here\"\\n    />\\n  );\\n};'}\n",
      "Path: src/components/ui/title/title.tsx\n",
      "Appended JSON objects:\n",
      "{'name': 'Title', 'description': 'A React functional component that renders a styled heading with the provided text.', 'returnType': 'JSX.Element', 'inputParams': [{'type': 'TitleProps', 'name': 'text', 'description': 'The text to be displayed inside the heading.'}], 'import': \"import { Title } from 'src/components/ui/title/title';\", 'example': 'import { Title } from \\'src/components/ui/title/title\\';\\n\\nconst App = () => (\\n  <div>\\n    <Title text=\"Welcome to My App\" />\\n  </div>\\n);'}\n",
      "Path: src/components/ui/toggle/capsule-toggle.tsx\n",
      "Appended JSON objects:\n",
      "{'name': 'CapsuleToggle', 'description': 'A reusable React component that renders a toggle switch with multiple tabs. The active tab is highlighted, and clicking on a different tab triggers a callback function.', 'returnType': 'JSX.Element', 'inputParams': [{'type': 'T[]', 'name': 'tabs', 'description': 'An array of strings representing the tabs to be displayed in the toggle.'}, {'type': 'T', 'name': 'activeTab', 'description': 'The currently active tab, which will be highlighted.'}, {'type': '(value: T) => void', 'name': 'onChange', 'description': 'A callback function that is triggered when a tab is clicked. It receives the selected tab as an argument.'}], 'import': \"import { CapsuleToggle } from 'src/components/ui/toggle/capsule-toggle';\", 'example': \"import { CapsuleToggle } from 'src/components/ui/toggle/capsule-toggle';\\n\\nconst tabs = ['home', 'profile', 'settings'];\\nconst [activeTab, setActiveTab] = React.useState('home');\\n\\n<CapsuleToggle\\n  tabs={tabs}\\n  activeTab={activeTab}\\n  onChange={(tab) => setActiveTab(tab)}\\n/>\"}\n",
      "Path: src/constants/api-constants.ts\n",
      "Appended JSON objects:\n",
      "{'name': 'CHAT_END_POINT', 'description': 'A constant string representing the endpoint for chat-related API calls.', 'returnType': 'string', 'inputParams': [], 'import': \"import { CHAT_END_POINT } from 'src/constants/api-constants';\", 'example': \"import { CHAT_END_POINT } from 'src/constants/api-constants';\\n\\nconsole.log(CHAT_END_POINT); // Outputs: 'chat'\"}\n",
      "{'name': 'TEMPLATE_END_POINT', 'description': 'A constant string representing the endpoint for template-related API calls.', 'returnType': 'string', 'inputParams': [], 'import': \"import { TEMPLATE_END_POINT } from 'src/constants/api-constants';\", 'example': \"import { TEMPLATE_END_POINT } from 'src/constants/api-constants';\\n\\nconsole.log(TEMPLATE_END_POINT); // Outputs: 'template'\"}\n",
      "Path: src/constants/builder.ts\n",
      "Appended JSON objects:\n",
      "{'name': 'INITIAL_FILE_STRUCTURE', 'description': 'A constant that represents the initial file structure of a project. It is an array of FileNode objects, where each FileNode represents a file or folder in the project structure.', 'returnType': 'FileNode[]', 'inputParams': [], 'import': \"import { INITIAL_FILE_STRUCTURE } from 'src/constants/builder';\", 'example': \"import { INITIAL_FILE_STRUCTURE } from 'src/constants/builder';\\n\\nconst App = () => {\\n  return (\\n    <div>\\n      <pre>{JSON.stringify(INITIAL_FILE_STRUCTURE, null, 2)}</pre>\\n    </div>\\n  );\\n};\"}\n",
      "Path: src/constants/index.tsx\n",
      "Appended JSON objects:\n",
      "{'name': 'CHAT_END_POINT', 'description': 'A constant representing the endpoint for chat-related API calls.', 'returnType': 'string', 'inputParams': [], 'import': \"import { CHAT_END_POINT } from 'src/constants/index.tsx';\", 'example': \"import { CHAT_END_POINT } from 'src/constants/index.tsx';\\n\\nconsole.log(CHAT_END_POINT); // Outputs the chat endpoint URL\"}\n",
      "{'name': 'TEMPLATE_END_POINT', 'description': 'A constant representing the endpoint for template-related API calls.', 'returnType': 'string', 'inputParams': [], 'import': \"import { TEMPLATE_END_POINT } from 'src/constants/index.tsx';\", 'example': \"import { TEMPLATE_END_POINT } from 'src/constants/index.tsx';\\n\\nconsole.log(TEMPLATE_END_POINT); // Outputs the template endpoint URL\"}\n",
      "{'name': 'INITIAL_FILE_STRUCTURE', 'description': 'A constant representing the initial file structure used in the builder.', 'returnType': 'object', 'inputParams': [], 'import': \"import { INITIAL_FILE_STRUCTURE } from 'src/constants/index.tsx';\", 'example': \"import { INITIAL_FILE_STRUCTURE } from 'src/constants/index.tsx';\\n\\nconsole.log(INITIAL_FILE_STRUCTURE); // Outputs the initial file structure object\"}\n",
      "{'name': 'PROGRESS_STEPS', 'description': 'A constant representing the steps for progress tracking.', 'returnType': 'array', 'inputParams': [], 'import': \"import { PROGRESS_STEPS } from 'src/constants/index.tsx';\", 'example': \"import { PROGRESS_STEPS } from 'src/constants/index.tsx';\\n\\nconsole.log(PROGRESS_STEPS); // Outputs the array of progress steps\"}\n",
      "Path: src/constants/steps.ts\n",
      "Appended JSON objects:\n",
      "{'name': 'PROGRESS_STEPS', 'description': 'An array of step objects representing progress steps in a workflow. Each step contains details like type, title, description, and status.', 'returnType': 'Step[]', 'inputParams': [], 'import': \"import { PROGRESS_STEPS } from 'src/constants/steps';\", 'example': \"import { PROGRESS_STEPS } from 'src/constants/steps';\\n\\nconst steps = PROGRESS_STEPS;\\nconsole.log(steps);\"}\n",
      "Path: src/hooks/webcontainer.ts\n",
      "Appended JSON objects:\n",
      "{'name': 'useWebContainer', 'description': 'A custom React hook that initializes and manages the state of a WebContainer instance. It handles mounting files, installing dependencies, and starting a development server within the WebContainer.', 'returnType': 'WebContainerState', 'inputParams': [{'type': 'FileNode[]', 'name': 'fileNode', 'description': 'An optional array of FileNode objects representing the file structure to be mounted in the WebContainer.'}], 'import': \"import { useWebContainer } from 'src/hooks/webcontainer';\", 'example': 'const { container, url, status, error } = useWebContainer(fileNode);'}\n",
      "Path: src/lib/config/env-config.ts\n",
      "Appended JSON objects:\n",
      "{'name': 'envConfig', 'description': 'An object that holds environment configuration settings, specifically the base URL for API requests.', 'returnType': 'EnvConfig', 'inputParams': [], 'import': \"import { envConfig } from 'src/lib/config/env-config';\", 'example': \"import { envConfig } from 'src/lib/config/env-config';\\n\\nconsole.log(envConfig.BASE_URL);\"}\n",
      "{'name': 'validateEnvConfig', 'description': 'A function that validates the environment configuration by checking if all required environment variables are set. Throws an error if any are missing.', 'returnType': 'void', 'inputParams': [], 'import': \"import { validateEnvConfig } from 'src/lib/config/env-config';\", 'example': \"import { validateEnvConfig } from 'src/lib/config/env-config';\\n\\nvalidateEnvConfig();\"}\n",
      "Path: src/lib/utils/exportFolder.ts\n",
      "Appended JSON objects:\n",
      "{'name': 'exportToZip', 'description': 'This function exports a collection of files provided in the `TemplateData` interface to a zip file. It uses the JSZip library to create a zip archive and the file-saver library to trigger the download of the zip file.', 'returnType': 'Promise<boolean>', 'inputParams': [{'type': 'TemplateData', 'name': 'data', 'description': 'An object containing an array of `Step` objects, each representing a file with a path and content to be included in the zip archive.'}], 'import': \"import { exportToZip } from 'src/lib/utils/exportFolder';\", 'example': \"import { exportToZip } from 'src/lib/utils/exportFolder';\\n\\nconst templateData = {\\n  template: [\\n    { path: 'file1.txt', content: 'Hello World' },\\n    { path: 'file2.txt', content: 'Another file content' }\\n  ]\\n};\\n\\nexportToZip(templateData).then(success => {\\n  if (success) {\\n    console.log('Files exported successfully');\\n  }\\n}).catch(error => {\\n  console.error('Failed to export files:', error);\\n});\"}\n",
      "Path: src/lib/utils/index.ts\n",
      "Appended JSON objects:\n",
      "{'name': 'parseXml', 'description': 'A utility function that parses XML data into a structured format.', 'returnType': 'Object', 'inputParams': [{'type': 'string', 'name': 'xmlData', 'description': 'The XML data as a string to be parsed.'}], 'import': \"import { parseXml } from 'src/lib/utils/index';\", 'example': \"import { parseXml } from 'src/lib/utils/index';\\n\\nconst xmlString = '<note><to>User</to><from>Admin</from><heading>Reminder</heading><body>Don't forget the meeting!</body></note>';\\nconst parsedData = parseXml(xmlString);\\nconsole.log(parsedData);\"}\n",
      "{'name': 'buildFileNodeTree', 'description': 'A utility function that constructs a tree structure from file nodes, typically used for representing directory structures or similar hierarchical data.', 'returnType': 'Object', 'inputParams': [{'type': 'Array<Object>', 'name': 'fileNodes', 'description': 'An array of objects where each object represents a file or directory node.'}], 'import': \"import { buildFileNodeTree } from 'src/lib/utils/index';\", 'example': \"import { buildFileNodeTree } from 'src/lib/utils/index';\\n\\nconst nodes = [\\n  { id: 1, name: 'file1.txt', parentId: null },\\n  { id: 2, name: 'file2.txt', parentId: 1 }\\n];\\nconst tree = buildFileNodeTree(nodes);\\nconsole.log(tree);\"}\n",
      "Path: src/lib/utils/parsing.ts\n",
      "Appended JSON objects:\n",
      "{'name': 'buildFileNodeTree', 'description': 'This function takes an array of Step objects and constructs a hierarchical tree structure of FileNode objects representing files and folders. It processes each step to create or navigate through folders and adds files at the appropriate locations in the tree.', 'returnType': 'FileNode[]', 'inputParams': [{'type': 'Step[]', 'name': 'steps', 'description': 'An array of Step objects, where each Step contains information about a file or folder to be created, including its path and content.'}], 'import': \"import { buildFileNodeTree } from 'src/lib/utils/parsing';\", 'example': \"import { buildFileNodeTree } from 'src/lib/utils/parsing';\\n\\nconst steps = [\\n  { path: 'folder1/file1.txt', content: 'Hello World' },\\n  { path: 'folder1/folder2/file2.txt', content: 'Another file' }\\n];\\n\\nconst fileTree = buildFileNodeTree(steps);\\nconsole.log(fileTree);\"}\n",
      "Path: src/lib/utils/xml.ts\n",
      "Appended JSON objects:\n",
      "{'name': 'parseXml', 'description': 'Parses input XML and converts it into an array of Step objects. The XML is expected to contain ZenCodeArtifact and ZenCodeAction elements, which are transformed into steps with titles, types, and statuses.', 'returnType': 'Step[]', 'inputParams': [{'type': 'string', 'name': 'response', 'description': 'The XML string to be parsed. It should contain ZenCodeArtifact and ZenCodeAction elements.'}], 'import': \"import { parseXml } from 'src/lib/utils/xml';\", 'example': 'import { parseXml } from \\'src/lib/utils/xml\\';\\n\\nconst xmlString = `<ZenCodeArtifact id=\"project-import\" title=\"Project Files\">\\n  <ZenCodeAction type=\"file\" filePath=\"eslint.config.js\">\\n    import js from \\'@eslint/js\\';\\n    import globals from \\'globals\\';\\n  </ZenCodeAction>\\n  <ZenCodeAction type=\"shell\">\\n    node index.js\\n  </ZenCodeAction>\\n</ZenCodeArtifact>`;\\n\\nconst steps = parseXml(xmlString);\\nconsole.log(steps);'}\n",
      "Path: src/types/api-response.ts\n",
      "Appended JSON objects:\n",
      "{'name': 'templateAPIResponse', 'description': \"An interface that defines the structure of the API response for templates. It contains an array of 'Step' objects.\", 'returnType': 'interface', 'inputParams': [{'type': 'Step[]', 'name': 'template', 'description': \"An array of 'Step' objects representing the template steps.\"}], 'import': \"import { templateAPIResponse } from 'src/types/api-response';\", 'example': \"import { templateAPIResponse } from 'src/types/api-response';\\n\\nconst response: templateAPIResponse = {\\n  template: [\\n    // Array of Step objects\\n  ]\\n};\"}\n",
      "Path: src/types/files.ts\n",
      "Appended JSON objects:\n",
      "{'name': 'FileNodeType', 'description': \"An enum that defines the types of file nodes, which can be either 'file' or 'folder'.\", 'returnType': 'enum', 'inputParams': [], 'import': \"import { FileNodeType } from 'src/types/files';\", 'example': \"import { FileNodeType } from 'src/types/files';\\n\\nconst nodeType = FileNodeType.file;\"}\n",
      "{'name': 'FileNode', 'description': 'An interface that represents a file node, which can be either a file or a folder. It includes properties such as name, type, children (for folders), content (for files), and path.', 'returnType': 'interface', 'inputParams': [{'type': 'string', 'name': 'name', 'description': 'The name of the file or folder.'}, {'type': 'FileNodeType', 'name': 'type', 'description': \"The type of the node, which can be either 'file' or 'folder'.\"}, {'type': 'FileNode[]', 'name': 'children', 'description': 'An optional array of child nodes, applicable if the node is a folder.'}, {'type': 'string', 'name': 'content', 'description': 'An optional string representing the content of the file, applicable if the node is a file.'}, {'type': 'string', 'name': 'path', 'description': 'The path to the file or folder.'}], 'import': \"import { FileNode } from 'src/types/files';\", 'example': \"import { FileNode } from 'src/types/files';\\n\\nconst fileNode: FileNode = {\\n  name: 'example.txt',\\n  type: FileNodeType.file,\\n  content: 'Hello, world!',\\n  path: '/example.txt'\\n};\"}\n",
      "{'name': 'FileNodeType', 'description': 'An enum that defines actions that can be performed on file nodes, such as creating a file, creating a folder, editing a file, deleting a file, or running a script.', 'returnType': 'enum', 'inputParams': [], 'import': \"import { FileNodeType } from 'src/types/files';\", 'example': \"import { FileNodeType } from 'src/types/files';\\n\\nconst action = FileNodeType.CreateFile;\"}\n",
      "Path: src/types/index.ts\n",
      "Appended JSON objects:\n",
      "{'name': 'Step', 'description': \"Represents a step in a process or workflow. It includes details about the step's status and type.\", 'returnType': 'Type', 'inputParams': [], 'import': \"import { Step } from 'src/types';\", 'example': \"import { Step } from 'src/types';\\n\\nconst myStep: Step = {\\n  // Step properties here\\n};\"}\n",
      "{'name': 'StepStatus', 'description': 'Defines the status of a step in a process or workflow.', 'returnType': 'Type', 'inputParams': [], 'import': \"import { StepStatus } from 'src/types';\", 'example': \"import { StepStatus } from 'src/types';\\n\\nconst status: StepStatus = 'completed';\"}\n",
      "{'name': 'StepType', 'description': 'Specifies the type of a step in a process or workflow.', 'returnType': 'Type', 'inputParams': [], 'import': \"import { StepType } from 'src/types';\", 'example': \"import { StepType } from 'src/types';\\n\\nconst type: StepType = 'action';\"}\n",
      "{'name': 'FileNode', 'description': 'Represents a node in a file system or file structure, including its type.', 'returnType': 'Type', 'inputParams': [], 'import': \"import { FileNode } from 'src/types';\", 'example': \"import { FileNode } from 'src/types';\\n\\nconst myFileNode: FileNode = {\\n  // FileNode properties here\\n};\"}\n",
      "{'name': 'FileNodeType', 'description': 'Defines the type of a file node in a file system or file structure.', 'returnType': 'Type', 'inputParams': [], 'import': \"import { FileNodeType } from 'src/types';\", 'example': \"import { FileNodeType } from 'src/types';\\n\\nconst nodeType: FileNodeType = 'file';\"}\n",
      "{'name': 'templateAPIResponse', 'description': 'Represents the structure of a response from a template API.', 'returnType': 'Type', 'inputParams': [], 'import': \"import { templateAPIResponse } from 'src/types';\", 'example': \"import { templateAPIResponse } from 'src/types';\\n\\nconst response: templateAPIResponse = {\\n  // API response properties here\\n};\"}\n",
      "Path: src/types/steps.ts\n",
      "Appended JSON objects:\n",
      "{'name': 'StepStatus', 'description': 'An enum representing the status of a step in a process. It can be PENDING, IN_PROGRESS, or COMPLETED.', 'returnType': 'enum', 'inputParams': [], 'import': \"import { StepStatus } from 'src/types/steps';\", 'example': \"import { StepStatus } from 'src/types/steps';\\n\\nconst status = StepStatus.PENDING;\"}\n",
      "{'name': 'StepType', 'description': 'An enum representing the type of step in a process. It includes various types such as CreateFile, CreateFolder, EditFile, DeleteFile, RunScript, TextDisplay, and InternalComponentImport.', 'returnType': 'enum', 'inputParams': [], 'import': \"import { StepType } from 'src/types/steps';\", 'example': \"import { StepType } from 'src/types/steps';\\n\\nconst type = StepType.CreateFile;\"}\n",
      "{'name': 'Step', 'description': 'An interface representing a step in a process. It includes properties such as id, title, description, type, status, content, and path.', 'returnType': 'interface', 'inputParams': [{'type': 'number', 'name': 'id', 'description': 'The unique identifier for the step.'}, {'type': 'string', 'name': 'title', 'description': 'The title of the step.'}, {'type': 'string', 'name': 'description', 'description': 'A brief description of the step.'}, {'type': 'StepType', 'name': 'type', 'description': 'The type of the step, as defined by the StepType enum.'}, {'type': 'StepStatus', 'name': 'status', 'description': 'The status of the step, as defined by the StepStatus enum.'}, {'type': 'string', 'name': 'content', 'description': 'The content associated with the step, if any.'}, {'type': 'string', 'name': 'path', 'description': 'The path associated with the step, if any.'}], 'import': \"import { Step } from 'src/types/steps';\", 'example': \"import { Step } from 'src/types/steps';\\n\\nconst step: Step = {\\n  id: 1,\\n  title: 'Create File',\\n  description: 'Creating a new file',\\n  type: StepType.CreateFile,\\n  status: StepStatus.PENDING,\\n  content: 'File content',\\n  path: '/path/to/file'\\n};\"}\n"
     ]
    }
   ],
   "source": [
    "for component in fetchedComponents:\n",
    "    if component['path'].startswith('src'):\n",
    "        # print(\"File:\", component['file'])\n",
    "        # print(\"File Content:\", component['fileContent'])\n",
    "        print(\"Path:\", component['path'])\n",
    "        \n",
    "        # for backward compatibility, you can still use `https://api.deepseek.com/v1` as `base_url`.\n",
    "\n",
    "        userPrompt = basePrompt+\"here is the file content\"+component['fileContent']+\"\\n the location of the file in the external project is: \"+component['path']\n",
    "        response = client.chat.completions.create(\n",
    "            model=\"deepseek-chat\",\n",
    "            messages=[\n",
    "                {\"role\": \"system\", \"content\": systemPrompt},\n",
    "                {\"role\": \"user\", \"content\": userPrompt},\n",
    "          ],\n",
    "            max_tokens=6000,\n",
    "            temperature=0,\n",
    "            stream=False\n",
    "        )\n",
    "\n",
    "        json_match = re.search(r'\\[.*\\]', response.choices[0].message.content, re.DOTALL)\n",
    "        if json_match:\n",
    "            json_part = json_match.group()\n",
    "        else:\n",
    "            print(\"No JSON found in the string.\")\n",
    "            json_part = None\n",
    "        \n",
    "        if json_part:\n",
    "            json_list = json.loads(json_part)\n",
    "            print(\"Appended JSON objects:\")\n",
    "            for obj in json_list:\n",
    "                print(obj)\n",
    "                jsonChunks.append(obj)\n",
    "        \n",
    "                "
   ]
  },
  {
   "cell_type": "code",
   "execution_count": 20,
   "metadata": {
    "execution": {
     "iopub.execute_input": "2025-03-24T07:15:00.020928Z",
     "iopub.status.busy": "2025-03-24T07:15:00.020481Z",
     "iopub.status.idle": "2025-03-24T07:15:00.027870Z",
     "shell.execute_reply": "2025-03-24T07:15:00.026938Z",
     "shell.execute_reply.started": "2025-03-24T07:15:00.020897Z"
    },
    "trusted": true
   },
   "outputs": [
    {
     "data": {
      "text/plain": [
       "{'name': 'axiosOpen',\n",
       " 'description': 'An Axios instance configured without secure settings, suitable for public API requests that do not require authentication.',\n",
       " 'returnType': 'AxiosInstance',\n",
       " 'inputParams': [],\n",
       " 'import': \"import { axiosOpen } from 'src/api/axios';\",\n",
       " 'example': \"import { axiosOpen } from 'src/api/axios';\\n\\naxiosOpen.get('/public-endpoint').then(response => {\\n  console.log(response.data);\\n}).catch(error => {\\n  console.error(error);\\n});\"}"
      ]
     },
     "execution_count": 20,
     "metadata": {},
     "output_type": "execute_result"
    }
   ],
   "source": [
    "jsonChunks[1]"
   ]
  },
  {
   "cell_type": "code",
   "execution_count": null,
   "metadata": {
    "execution": {
     "iopub.execute_input": "2025-03-24T15:25:38.280760Z",
     "iopub.status.busy": "2025-03-24T15:25:38.280409Z",
     "iopub.status.idle": "2025-03-24T15:25:38.590636Z",
     "shell.execute_reply": "2025-03-24T15:25:38.589531Z",
     "shell.execute_reply.started": "2025-03-24T15:25:38.280733Z"
    },
    "trusted": true
   },
   "outputs": [],
   "source": [
    "pc = Pinecone(\"fff\")\n",
    "index = pc.Index(\"llama-text-embed-v2-index\")"
   ]
  },
  {
   "cell_type": "code",
   "execution_count": 35,
   "metadata": {
    "execution": {
     "iopub.execute_input": "2025-03-24T07:28:01.558891Z",
     "iopub.status.busy": "2025-03-24T07:28:01.558481Z",
     "iopub.status.idle": "2025-03-24T07:28:02.079693Z",
     "shell.execute_reply": "2025-03-24T07:28:02.078533Z",
     "shell.execute_reply.started": "2025-03-24T07:28:01.558859Z"
    },
    "trusted": true
   },
   "outputs": [],
   "source": [
    "embeddings = pc.inference.embed(\n",
    "    model=\"llama-text-embed-v2\",\n",
    "    inputs=[d['description'] for d in jsonChunks],\n",
    "    parameters={\n",
    "        \"input_type\": \"passage\"\n",
    "    }\n",
    ")\n",
    "\n",
    "vectors = []\n",
    "for d, e in zip(jsonChunks, embeddings):\n",
    "    vectors.append({\n",
    "        \"id\": str(uuid.uuid1()),\n",
    "        \"values\": e['values'],\n",
    "        \"metadata\": {\"component\":json.dumps(d)}\n",
    "    })"
   ]
  },
  {
   "cell_type": "code",
   "execution_count": 36,
   "metadata": {
    "execution": {
     "iopub.execute_input": "2025-03-24T07:28:03.787472Z",
     "iopub.status.busy": "2025-03-24T07:28:03.787163Z",
     "iopub.status.idle": "2025-03-24T07:28:04.568501Z",
     "shell.execute_reply": "2025-03-24T07:28:04.567380Z",
     "shell.execute_reply.started": "2025-03-24T07:28:03.787447Z"
    },
    "trusted": true
   },
   "outputs": [
    {
     "data": {
      "text/plain": [
       "{'upserted_count': 69}"
      ]
     },
     "execution_count": 36,
     "metadata": {},
     "output_type": "execute_result"
    }
   ],
   "source": [
    "index.upsert(\n",
    "    vectors=vectors,\n",
    "    namespace=\"ns1\"\n",
    ")"
   ]
  },
  {
   "cell_type": "code",
   "execution_count": 38,
   "metadata": {
    "execution": {
     "iopub.execute_input": "2025-03-24T07:39:30.817635Z",
     "iopub.status.busy": "2025-03-24T07:39:30.817252Z",
     "iopub.status.idle": "2025-03-24T07:39:36.454064Z",
     "shell.execute_reply": "2025-03-24T07:39:36.452776Z",
     "shell.execute_reply.started": "2025-03-24T07:39:30.817573Z"
    },
    "trusted": true
   },
   "outputs": [
    {
     "name": "stdout",
     "output_type": "stream",
     "text": [
      "Collecting smolagents\n",
      "  Downloading smolagents-1.12.0-py3-none-any.whl.metadata (14 kB)\n",
      "Requirement already satisfied: huggingface-hub>=0.28.0 in /usr/local/lib/python3.10/dist-packages (from smolagents) (0.29.0)\n",
      "Requirement already satisfied: requests>=2.32.3 in /usr/local/lib/python3.10/dist-packages (from smolagents) (2.32.3)\n",
      "Requirement already satisfied: rich>=13.9.4 in /usr/local/lib/python3.10/dist-packages (from smolagents) (13.9.4)\n",
      "Requirement already satisfied: pandas>=2.2.3 in /usr/local/lib/python3.10/dist-packages (from smolagents) (2.2.3)\n",
      "Requirement already satisfied: jinja2>=3.1.4 in /usr/local/lib/python3.10/dist-packages (from smolagents) (3.1.4)\n",
      "Requirement already satisfied: pillow>=11.0.0 in /usr/local/lib/python3.10/dist-packages (from smolagents) (11.0.0)\n",
      "Collecting markdownify>=0.14.1 (from smolagents)\n",
      "  Downloading markdownify-1.1.0-py3-none-any.whl.metadata (9.1 kB)\n",
      "Collecting duckduckgo-search>=6.3.7 (from smolagents)\n",
      "  Downloading duckduckgo_search-7.5.3-py3-none-any.whl.metadata (17 kB)\n",
      "Collecting python-dotenv (from smolagents)\n",
      "  Downloading python_dotenv-1.0.1-py3-none-any.whl.metadata (23 kB)\n",
      "Collecting click>=8.1.8 (from duckduckgo-search>=6.3.7->smolagents)\n",
      "  Downloading click-8.1.8-py3-none-any.whl.metadata (2.3 kB)\n",
      "Collecting primp>=0.14.0 (from duckduckgo-search>=6.3.7->smolagents)\n",
      "  Downloading primp-0.14.0-cp38-abi3-manylinux_2_17_x86_64.manylinux2014_x86_64.whl.metadata (13 kB)\n",
      "Requirement already satisfied: lxml>=5.3.0 in /usr/local/lib/python3.10/dist-packages (from duckduckgo-search>=6.3.7->smolagents) (5.3.0)\n",
      "Requirement already satisfied: filelock in /usr/local/lib/python3.10/dist-packages (from huggingface-hub>=0.28.0->smolagents) (3.17.0)\n",
      "Requirement already satisfied: fsspec>=2023.5.0 in /usr/local/lib/python3.10/dist-packages (from huggingface-hub>=0.28.0->smolagents) (2024.12.0)\n",
      "Requirement already satisfied: packaging>=20.9 in /usr/local/lib/python3.10/dist-packages (from huggingface-hub>=0.28.0->smolagents) (24.2)\n",
      "Requirement already satisfied: pyyaml>=5.1 in /usr/local/lib/python3.10/dist-packages (from huggingface-hub>=0.28.0->smolagents) (6.0.2)\n",
      "Requirement already satisfied: tqdm>=4.42.1 in /usr/local/lib/python3.10/dist-packages (from huggingface-hub>=0.28.0->smolagents) (4.67.1)\n",
      "Requirement already satisfied: typing-extensions>=3.7.4.3 in /usr/local/lib/python3.10/dist-packages (from huggingface-hub>=0.28.0->smolagents) (4.12.2)\n",
      "Requirement already satisfied: MarkupSafe>=2.0 in /usr/local/lib/python3.10/dist-packages (from jinja2>=3.1.4->smolagents) (3.0.2)\n",
      "Requirement already satisfied: beautifulsoup4<5,>=4.9 in /usr/local/lib/python3.10/dist-packages (from markdownify>=0.14.1->smolagents) (4.12.3)\n",
      "Requirement already satisfied: six<2,>=1.15 in /usr/local/lib/python3.10/dist-packages (from markdownify>=0.14.1->smolagents) (1.17.0)\n",
      "Requirement already satisfied: numpy>=1.22.4 in /usr/local/lib/python3.10/dist-packages (from pandas>=2.2.3->smolagents) (1.26.4)\n",
      "Requirement already satisfied: python-dateutil>=2.8.2 in /usr/local/lib/python3.10/dist-packages (from pandas>=2.2.3->smolagents) (2.9.0.post0)\n",
      "Requirement already satisfied: pytz>=2020.1 in /usr/local/lib/python3.10/dist-packages (from pandas>=2.2.3->smolagents) (2025.1)\n",
      "Requirement already satisfied: tzdata>=2022.7 in /usr/local/lib/python3.10/dist-packages (from pandas>=2.2.3->smolagents) (2025.1)\n",
      "Requirement already satisfied: charset-normalizer<4,>=2 in /usr/local/lib/python3.10/dist-packages (from requests>=2.32.3->smolagents) (3.4.1)\n",
      "Requirement already satisfied: idna<4,>=2.5 in /usr/local/lib/python3.10/dist-packages (from requests>=2.32.3->smolagents) (3.10)\n",
      "Requirement already satisfied: urllib3<3,>=1.21.1 in /usr/local/lib/python3.10/dist-packages (from requests>=2.32.3->smolagents) (2.3.0)\n",
      "Requirement already satisfied: certifi>=2017.4.17 in /usr/local/lib/python3.10/dist-packages (from requests>=2.32.3->smolagents) (2025.1.31)\n",
      "Requirement already satisfied: markdown-it-py>=2.2.0 in /usr/local/lib/python3.10/dist-packages (from rich>=13.9.4->smolagents) (3.0.0)\n",
      "Requirement already satisfied: pygments<3.0.0,>=2.13.0 in /usr/local/lib/python3.10/dist-packages (from rich>=13.9.4->smolagents) (2.19.1)\n",
      "Requirement already satisfied: soupsieve>1.2 in /usr/local/lib/python3.10/dist-packages (from beautifulsoup4<5,>=4.9->markdownify>=0.14.1->smolagents) (2.6)\n",
      "Requirement already satisfied: mdurl~=0.1 in /usr/local/lib/python3.10/dist-packages (from markdown-it-py>=2.2.0->rich>=13.9.4->smolagents) (0.1.2)\n",
      "Requirement already satisfied: mkl_fft in /usr/local/lib/python3.10/dist-packages (from numpy>=1.22.4->pandas>=2.2.3->smolagents) (1.3.8)\n",
      "Requirement already satisfied: mkl_random in /usr/local/lib/python3.10/dist-packages (from numpy>=1.22.4->pandas>=2.2.3->smolagents) (1.2.4)\n",
      "Requirement already satisfied: mkl_umath in /usr/local/lib/python3.10/dist-packages (from numpy>=1.22.4->pandas>=2.2.3->smolagents) (0.1.1)\n",
      "Requirement already satisfied: mkl in /usr/local/lib/python3.10/dist-packages (from numpy>=1.22.4->pandas>=2.2.3->smolagents) (2025.0.1)\n",
      "Requirement already satisfied: tbb4py in /usr/local/lib/python3.10/dist-packages (from numpy>=1.22.4->pandas>=2.2.3->smolagents) (2022.0.0)\n",
      "Requirement already satisfied: mkl-service in /usr/local/lib/python3.10/dist-packages (from numpy>=1.22.4->pandas>=2.2.3->smolagents) (2.4.1)\n",
      "Requirement already satisfied: intel-openmp>=2024 in /usr/local/lib/python3.10/dist-packages (from mkl->numpy>=1.22.4->pandas>=2.2.3->smolagents) (2024.2.0)\n",
      "Requirement already satisfied: tbb==2022.* in /usr/local/lib/python3.10/dist-packages (from mkl->numpy>=1.22.4->pandas>=2.2.3->smolagents) (2022.0.0)\n",
      "Requirement already satisfied: tcmlib==1.* in /usr/local/lib/python3.10/dist-packages (from tbb==2022.*->mkl->numpy>=1.22.4->pandas>=2.2.3->smolagents) (1.2.0)\n",
      "Requirement already satisfied: intel-cmplr-lib-rt in /usr/local/lib/python3.10/dist-packages (from mkl_umath->numpy>=1.22.4->pandas>=2.2.3->smolagents) (2024.2.0)\n",
      "Requirement already satisfied: intel-cmplr-lib-ur==2024.2.0 in /usr/local/lib/python3.10/dist-packages (from intel-openmp>=2024->mkl->numpy>=1.22.4->pandas>=2.2.3->smolagents) (2024.2.0)\n",
      "Downloading smolagents-1.12.0-py3-none-any.whl (105 kB)\n",
      "\u001b[2K   \u001b[90m━━━━━━━━━━━━━━━━━━━━━━━━━━━━━━━━━━━━━━━━\u001b[0m \u001b[32m105.3/105.3 kB\u001b[0m \u001b[31m3.4 MB/s\u001b[0m eta \u001b[36m0:00:00\u001b[0m\n",
      "\u001b[?25hDownloading duckduckgo_search-7.5.3-py3-none-any.whl (20 kB)\n",
      "Downloading markdownify-1.1.0-py3-none-any.whl (13 kB)\n",
      "Downloading python_dotenv-1.0.1-py3-none-any.whl (19 kB)\n",
      "Downloading click-8.1.8-py3-none-any.whl (98 kB)\n",
      "\u001b[2K   \u001b[90m━━━━━━━━━━━━━━━━━━━━━━━━━━━━━━━━━━━━━━━━\u001b[0m \u001b[32m98.2/98.2 kB\u001b[0m \u001b[31m5.7 MB/s\u001b[0m eta \u001b[36m0:00:00\u001b[0m\n",
      "\u001b[?25hDownloading primp-0.14.0-cp38-abi3-manylinux_2_17_x86_64.manylinux2014_x86_64.whl (3.3 MB)\n",
      "\u001b[2K   \u001b[90m━━━━━━━━━━━━━━━━━━━━━━━━━━━━━━━━━━━━━━━━\u001b[0m \u001b[32m3.3/3.3 MB\u001b[0m \u001b[31m43.1 MB/s\u001b[0m eta \u001b[36m0:00:00\u001b[0m00:01\u001b[0m00:01\u001b[0m\n",
      "\u001b[?25hInstalling collected packages: python-dotenv, primp, click, markdownify, duckduckgo-search, smolagents\n",
      "  Attempting uninstall: click\n",
      "    Found existing installation: click 8.1.7\n",
      "    Uninstalling click-8.1.7:\n",
      "      Successfully uninstalled click-8.1.7\n",
      "Successfully installed click-8.1.8 duckduckgo-search-7.5.3 markdownify-1.1.0 primp-0.14.0 python-dotenv-1.0.1 smolagents-1.12.0\n"
     ]
    }
   ],
   "source": [
    "# !pip install smolagents"
   ]
  },
  {
   "cell_type": "code",
   "execution_count": 39,
   "metadata": {
    "execution": {
     "iopub.execute_input": "2025-03-24T07:39:42.737801Z",
     "iopub.status.busy": "2025-03-24T07:39:42.737415Z",
     "iopub.status.idle": "2025-03-24T07:39:43.277776Z",
     "shell.execute_reply": "2025-03-24T07:39:43.276665Z",
     "shell.execute_reply.started": "2025-03-24T07:39:42.737747Z"
    },
    "trusted": true
   },
   "outputs": [],
   "source": [
    "# from smolagents import Tool, HfApiModel, ToolCallingAgent"
   ]
  },
  {
   "cell_type": "code",
   "execution_count": 40,
   "metadata": {
    "execution": {
     "iopub.execute_input": "2025-03-24T07:39:45.228511Z",
     "iopub.status.busy": "2025-03-24T07:39:45.227993Z",
     "iopub.status.idle": "2025-03-24T07:39:45.235424Z",
     "shell.execute_reply": "2025-03-24T07:39:45.234263Z",
     "shell.execute_reply.started": "2025-03-24T07:39:45.228484Z"
    },
    "trusted": true
   },
   "outputs": [],
   "source": [
    "# class RetrieverTool(Tool):\n",
    "#     name = \"retriever\"\n",
    "#     description = \"Using semantic similarity, retrieves some documents from the knowledge base that have the closest embeddings to the input query.\"\n",
    "#     inputs = {\n",
    "#         \"query\": {\n",
    "#             \"type\": \"string\",\n",
    "#             \"description\": \"The query to perform. This should be semantically close to your target documents. Use the affirmative form rather than a question.\",\n",
    "#         }\n",
    "#     }\n",
    "#     output_type = \"string\"\n",
    "\n",
    "#     def __init__(self, **kwargs):\n",
    "#         super().__init__(**kwargs)\n",
    "\n",
    "#     def forward(self, query: str) -> str:\n",
    "#         assert isinstance(query, str), \"Your search query must be a string\"\n",
    "#         queryEmbedding = pc.inference.embed(\n",
    "#             model=\"llama-text-embed-v2\",\n",
    "#             inputs=[query],\n",
    "#             parameters={\n",
    "#                 \"input_type\": \"passage\"\n",
    "#             }\n",
    "#         )\n",
    "        \n",
    "#         docs = index.query(            \n",
    "#             namespace=\"ns1\",\n",
    "#             vector=queryEmbedding[0]['values'],\n",
    "#             top_k=3,\n",
    "#             include_values=True,\n",
    "#             include_metadata=True,\n",
    "# )\n",
    "\n",
    "#         return \"\\nRetrieved documents:\\n\" + \"\".join(\n",
    "#             [f\"===== Document {str(i)} =====\\n\" + doc.page_content for i, doc in enumerate(docs)]\n",
    "#         )"
   ]
  },
  {
   "cell_type": "code",
   "execution_count": null,
   "metadata": {
    "execution": {
     "iopub.execute_input": "2025-03-24T08:08:35.755664Z",
     "iopub.status.busy": "2025-03-24T08:08:35.755291Z",
     "iopub.status.idle": "2025-03-24T08:08:40.962297Z",
     "shell.execute_reply": "2025-03-24T08:08:40.961038Z",
     "shell.execute_reply.started": "2025-03-24T08:08:35.755635Z"
    },
    "trusted": true
   },
   "outputs": [],
   "source": [
    "!pip install -U \"huggingface_hub[cli]\" -q\n",
    "!python -c \"from huggingface_hub.hf_api import HfFolder; HfFolder.save_token('fff')\""
   ]
  },
  {
   "cell_type": "code",
   "execution_count": 76,
   "metadata": {
    "execution": {
     "iopub.execute_input": "2025-03-24T08:42:42.198906Z",
     "iopub.status.busy": "2025-03-24T08:42:42.198546Z",
     "iopub.status.idle": "2025-03-24T08:42:42.203919Z",
     "shell.execute_reply": "2025-03-24T08:42:42.202899Z",
     "shell.execute_reply.started": "2025-03-24T08:42:42.198878Z"
    },
    "trusted": true
   },
   "outputs": [],
   "source": [
    "\n",
    "\n",
    "# def generate_response(prompt):\n",
    "#     response = client.chat.completions.create(\n",
    "#             model=\"deepseek-chat\",\n",
    "#             messages=[\n",
    "#                 {\"role\": \"system\", \"content\": \"You are a helpful assistant\"},\n",
    "#                 {\"role\": \"user\", \"content\": prompt},\n",
    "#           ],\n",
    "#             max_tokens=500,\n",
    "#             temperature=0,\n",
    "#             stream=False\n",
    "#         )\n",
    "#     return response[\"choices\"][0][\"text\"].strip()"
   ]
  },
  {
   "cell_type": "code",
   "execution_count": null,
   "metadata": {
    "trusted": true
   },
   "outputs": [],
   "source": []
  },
  {
   "cell_type": "code",
   "execution_count": 77,
   "metadata": {
    "execution": {
     "iopub.execute_input": "2025-03-24T08:42:44.074962Z",
     "iopub.status.busy": "2025-03-24T08:42:44.074671Z",
     "iopub.status.idle": "2025-03-24T08:42:44.096011Z",
     "shell.execute_reply": "2025-03-24T08:42:44.095134Z",
     "shell.execute_reply.started": "2025-03-24T08:42:44.074940Z"
    },
    "trusted": true
   },
   "outputs": [],
   "source": [
    "# model = HfApiModel(\"meta-llama/Llama-3.1-70B-Instruct\")\n",
    "\n",
    "# retriever_tool = RetrieverTool()\n",
    "# agent = ToolCallingAgent(tools=[retriever_tool], model=generate_response)\n",
    "# agent.run(\"fetch a component to create a navbar\")"
   ]
  },
  {
   "cell_type": "code",
   "execution_count": 10,
   "metadata": {
    "execution": {
     "iopub.execute_input": "2025-03-24T15:32:56.019364Z",
     "iopub.status.busy": "2025-03-24T15:32:56.018977Z",
     "iopub.status.idle": "2025-03-24T15:33:03.594342Z",
     "shell.execute_reply": "2025-03-24T15:33:03.593007Z",
     "shell.execute_reply.started": "2025-03-24T15:32:56.019339Z"
    },
    "trusted": true
   },
   "outputs": [
    {
     "name": "stdout",
     "output_type": "stream",
     "text": [
      "\n",
      " What type of navigation structure do you need (horizontal, vertical, or responsive)?  \n",
      "\n",
      " Do you prefer a minimalist design or one with more visual elements?  \n",
      "\n",
      " Should the navbar include dropdown menus or submenus?  \n",
      "\n",
      " Are you looking for a mobile-friendly navbar with a hamburger menu?  \n",
      "\n",
      " Do you need built-in support for active link highlighting?\n"
     ]
    }
   ],
   "source": [
    "def generate_multi_query(query, model=\"deepseek-chat\"):\n",
    "\n",
    "    prompt = \"\"\"\n",
    "    You are a knowledgeable full stack developer. \n",
    "    Your need to find the most appropriate component in an exteranl library. \n",
    "    For the given question, propose up to five related questions to assist them in finding the right component you need. \n",
    "    Provide concise, single-topic questions (withouth compounding sentences) that cover various aspects of the topic. \n",
    "    Ensure each question is complete and directly related to the original inquiry. \n",
    "    List each question on a separate line without numbering.\n",
    "                \"\"\"\n",
    "\n",
    "    messages = [\n",
    "        {\n",
    "            \"role\": \"system\",\n",
    "            \"content\": prompt,\n",
    "        },\n",
    "        {\"role\": \"user\", \"content\": query},\n",
    "    ]\n",
    "\n",
    "    response = client.chat.completions.create(\n",
    "        model=model,\n",
    "        messages=messages,\n",
    "    )\n",
    "    content = response.choices[0].message.content\n",
    "    content = content.split(\"\\n\")\n",
    "    return content\n",
    "\n",
    "\n",
    "original_query = (\n",
    "    \"fetch a component to create a navbar\"\n",
    ")\n",
    "aug_queries = generate_multi_query(original_query)\n",
    "\n",
    "# 1. First step show the augmented queries\n",
    "for query in aug_queries:\n",
    "    print(\"\\n\", query)\n",
    "\n",
    "\n"
   ]
  },
  {
   "cell_type": "code",
   "execution_count": 24,
   "metadata": {
    "execution": {
     "iopub.execute_input": "2025-03-24T15:41:38.440660Z",
     "iopub.status.busy": "2025-03-24T15:41:38.440249Z",
     "iopub.status.idle": "2025-03-24T15:41:39.537488Z",
     "shell.execute_reply": "2025-03-24T15:41:39.536371Z",
     "shell.execute_reply.started": "2025-03-24T15:41:38.440633Z"
    },
    "trusted": true
   },
   "outputs": [],
   "source": [
    "joint_query = [\n",
    "    original_query\n",
    "] + aug_queries  # original query is in a list because chroma can actually handle multiple queries, so we add it in a list\n",
    "\n",
    "# print(\"======> \\n\\n\", joint_query)\n",
    "queryEmbedding = pc.inference.embed(\n",
    "    model=\"llama-text-embed-v2\",\n",
    "    inputs=joint_query,\n",
    "    parameters={\n",
    "        \"input_type\": \"passage\"\n",
    "    }\n",
    ")\n",
    "\n",
    "response = index.query(            \n",
    "    namespace=\"ns1\",\n",
    "    vector=queryEmbedding[0]['values'],\n",
    "    top_k=3,\n",
    "    include_values=True,\n",
    "    include_metadata=True,\n",
    "    )\n",
    "    \n"
   ]
  },
  {
   "cell_type": "code",
   "execution_count": 31,
   "metadata": {
    "execution": {
     "iopub.execute_input": "2025-03-24T15:44:11.296487Z",
     "iopub.status.busy": "2025-03-24T15:44:11.296122Z",
     "iopub.status.idle": "2025-03-24T15:44:11.303013Z",
     "shell.execute_reply": "2025-03-24T15:44:11.301781Z",
     "shell.execute_reply.started": "2025-03-24T15:44:11.296460Z"
    },
    "trusted": true
   },
   "outputs": [
    {
     "data": {
      "text/plain": [
       "{'component': '{\"name\": \"Title\", \"description\": \"A React functional component that renders a styled heading with the provided text.\", \"returnType\": \"JSX.Element\", \"inputParams\": [{\"type\": \"TitleProps\", \"name\": \"text\", \"description\": \"The text to be displayed inside the heading.\"}], \"import\": \"import { Title } from \\'src/components/ui/title/title\\';\", \"example\": \"import { Title } from \\'src/components/ui/title/title\\';\\\\n\\\\nconst App = () => (\\\\n  <div>\\\\n    <Title text=\\\\\"Welcome to My App\\\\\" />\\\\n  </div>\\\\n);\"}'}"
      ]
     },
     "execution_count": 31,
     "metadata": {},
     "output_type": "execute_result"
    }
   ],
   "source": [
    "response['matches'][0]['metadata']"
   ]
  },
  {
   "cell_type": "code",
   "execution_count": 37,
   "metadata": {
    "execution": {
     "iopub.execute_input": "2025-03-24T15:47:46.848909Z",
     "iopub.status.busy": "2025-03-24T15:47:46.848527Z",
     "iopub.status.idle": "2025-03-24T15:47:46.854337Z",
     "shell.execute_reply": "2025-03-24T15:47:46.852868Z",
     "shell.execute_reply.started": "2025-03-24T15:47:46.848870Z"
    },
    "trusted": true
   },
   "outputs": [],
   "source": [
    "def word_wrap(text, width=87):\n",
    "    \"\"\"\n",
    "    Wraps the given text to the specified width.\n",
    "\n",
    "    Args:\n",
    "    text (str): The text to wrap.\n",
    "    width (int): The width to wrap the text to.\n",
    "\n",
    "    Returns:\n",
    "    str: The wrapped text.\n",
    "    \"\"\"\n",
    "    return \"\\n\".join([text[i : i + width] for i in range(0, size(text), width)])"
   ]
  },
  {
   "cell_type": "code",
   "execution_count": null,
   "metadata": {
    "trusted": true
   },
   "outputs": [],
   "source": []
  },
  {
   "cell_type": "code",
   "execution_count": 41,
   "metadata": {
    "execution": {
     "iopub.execute_input": "2025-03-24T15:52:19.258585Z",
     "iopub.status.busy": "2025-03-24T15:52:19.258179Z",
     "iopub.status.idle": "2025-03-24T15:52:19.264222Z",
     "shell.execute_reply": "2025-03-24T15:52:19.262976Z",
     "shell.execute_reply.started": "2025-03-24T15:52:19.258552Z"
    },
    "trusted": true
   },
   "outputs": [],
   "source": [
    "# print(response)\n",
    "retrieved_documents = response[\"matches\"]\n",
    "\n",
    "# Deduplicate the retrieved documents\n",
    "unique_documents = set()\n",
    "for document in retrieved_documents:\n",
    "    # for document in documents:\n",
    "        unique_documents.add(document['id'])\n"
   ]
  },
  {
   "cell_type": "code",
   "execution_count": 42,
   "metadata": {
    "execution": {
     "iopub.execute_input": "2025-03-24T15:53:14.926594Z",
     "iopub.status.busy": "2025-03-24T15:53:14.926204Z",
     "iopub.status.idle": "2025-03-24T15:53:14.932411Z",
     "shell.execute_reply": "2025-03-24T15:53:14.931484Z",
     "shell.execute_reply.started": "2025-03-24T15:53:14.926536Z"
    },
    "trusted": true
   },
   "outputs": [
    {
     "data": {
      "text/plain": [
       "{'84d3a1a8-0881-11f0-8b6a-0242ac130202',\n",
       " '84d3a892-0881-11f0-8b6a-0242ac130202',\n",
       " '84d3ac48-0881-11f0-8b6a-0242ac130202'}"
      ]
     },
     "execution_count": 42,
     "metadata": {},
     "output_type": "execute_result"
    }
   ],
   "source": [
    "unique_documents"
   ]
  },
  {
   "cell_type": "code",
   "execution_count": 44,
   "metadata": {
    "execution": {
     "iopub.execute_input": "2025-03-24T15:56:55.288495Z",
     "iopub.status.busy": "2025-03-24T15:56:55.288118Z",
     "iopub.status.idle": "2025-03-24T15:57:35.955351Z",
     "shell.execute_reply": "2025-03-24T15:57:35.954201Z",
     "shell.execute_reply.started": "2025-03-24T15:56:55.288464Z"
    },
    "trusted": true
   },
   "outputs": [],
   "source": [
    "def augment_query_generated(query, model=\"deepseek-chat\"):\n",
    "    prompt = \"\"\"You are a helpful expert fullstack developer. \n",
    "   Provide an example answer to the given question, that might be found in a code description like a library.\"\"\"\n",
    "    messages = [\n",
    "        {\n",
    "            \"role\": \"system\",\n",
    "            \"content\": prompt,\n",
    "        },\n",
    "        {\"role\": \"user\", \"content\": query},\n",
    "    ]\n",
    "\n",
    "    response = client.chat.completions.create(\n",
    "        model=model,\n",
    "        messages=messages,\n",
    "    )\n",
    "    content = response.choices[0].message.content\n",
    "    return content\n",
    "\n",
    "\n",
    "original_query = \"fetch a component to create a navbar\"\n",
    "hypothetical_answer = augment_query_generated(original_query)\n",
    "\n",
    "joint_query = f\"{original_query} {hypothetical_answer}\""
   ]
  },
  {
   "cell_type": "code",
   "execution_count": null,
   "metadata": {
    "trusted": true
   },
   "outputs": [],
   "source": []
  }
 ],
 "metadata": {
  "kaggle": {
   "accelerator": "none",
   "dataSources": [],
   "dockerImageVersionId": 30918,
   "isGpuEnabled": false,
   "isInternetEnabled": true,
   "language": "python",
   "sourceType": "notebook"
  },
  "kernelspec": {
   "display_name": "Python 3",
   "language": "python",
   "name": "python3"
  },
  "language_info": {
   "codemirror_mode": {
    "name": "ipython",
    "version": 3
   },
   "file_extension": ".py",
   "mimetype": "text/x-python",
   "name": "python",
   "nbconvert_exporter": "python",
   "pygments_lexer": "ipython3",
   "version": "3.10.12"
  }
 },
 "nbformat": 4,
 "nbformat_minor": 4
}
