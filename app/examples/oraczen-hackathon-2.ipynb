{
 "cells": [
  {
   "cell_type": "code",
   "execution_count": 1,
   "id": "23ea2f4f",
   "metadata": {
    "_cell_guid": "b1076dfc-b9ad-4769-8c92-a6c4dae69d19",
    "_uuid": "8f2839f25d086af736a60e9eeb907d3b93b6e0e5",
    "execution": {
     "iopub.execute_input": "2025-03-30T14:11:22.571326Z",
     "iopub.status.busy": "2025-03-30T14:11:22.570867Z",
     "iopub.status.idle": "2025-03-30T14:11:24.381748Z",
     "shell.execute_reply": "2025-03-30T14:11:24.380513Z"
    },
    "papermill": {
     "duration": 1.81839,
     "end_time": "2025-03-30T14:11:24.383760",
     "exception": false,
     "start_time": "2025-03-30T14:11:22.565370",
     "status": "completed"
    },
    "tags": []
   },
   "outputs": [],
   "source": [
    "from openai import OpenAI\n",
    "import json\n",
    "import uuid"
   ]
  },
  {
   "cell_type": "code",
   "execution_count": null,
   "id": "fa262949",
   "metadata": {
    "execution": {
     "iopub.execute_input": "2025-03-30T14:11:24.393852Z",
     "iopub.status.busy": "2025-03-30T14:11:24.393457Z",
     "iopub.status.idle": "2025-03-30T14:11:24.743554Z",
     "shell.execute_reply": "2025-03-30T14:11:24.742359Z"
    },
    "papermill": {
     "duration": 0.357281,
     "end_time": "2025-03-30T14:11:24.745507",
     "exception": false,
     "start_time": "2025-03-30T14:11:24.388226",
     "status": "completed"
    },
    "tags": []
   },
   "outputs": [],
   "source": [
    "client = OpenAI(api_key=\"sk-fff\", base_url=\"https://api.deepseek.com\")"
   ]
  },
  {
   "cell_type": "code",
   "execution_count": 3,
   "id": "1ba09786",
   "metadata": {
    "execution": {
     "iopub.execute_input": "2025-03-30T14:11:24.754346Z",
     "iopub.status.busy": "2025-03-30T14:11:24.753958Z",
     "iopub.status.idle": "2025-03-30T14:11:24.759183Z",
     "shell.execute_reply": "2025-03-30T14:11:24.758032Z"
    },
    "papermill": {
     "duration": 0.011756,
     "end_time": "2025-03-30T14:11:24.761088",
     "exception": false,
     "start_time": "2025-03-30T14:11:24.749332",
     "status": "completed"
    },
    "tags": []
   },
   "outputs": [],
   "source": [
    "systemPrompt = \"\"\"You are ZenCode, an expert AI assistant specializing in generating React applications that strictly adhere to enterprise design standards and component libraries.\n",
    "\n",
    "<repository_context>\n",
    "  You will receive a serialized context of the current repository's generated code state. This includes:\n",
    "  - File structure and contents of previously generated code\n",
    "  - Current state of all files and directories\n",
    "  - Previous modifications and their history\n",
    "  \n",
    "  CRITICAL:\n",
    "  - All file operations must be performed relative to this existing context\n",
    "  - Maintain consistency with previously generated code\n",
    "  - Consider dependencies and relationships between existing files\n",
    "  - Ensure backwards compatibility when modifying existing files\n",
    "</repository_context>\n",
    "\n",
    "<system_constraints>\n",
    "  You are operating in WebContainer, an in-browser Node.js runtime that emulates a Linux system. Key limitations:\n",
    "  - Runs in browser, not a full Linux system\n",
    "  - Can only execute browser-compatible code (JS, WebAssembly)\n",
    "  - Python limited to standard library only (NO pip)\n",
    "  - No native binary execution or C/C++ compilation\n",
    "  - Git not available\n",
    "  - For databases, use browser-compatible options (libsql, sqlite)\n",
    "</system_constraints>\n",
    "\n",
    "<enterprise_context>\n",
    "  You will receive:\n",
    "  1. Top-K relevant internal components from our vector database (Pinecone)\n",
    "  2. Global CSS standards and design system guidelines\n",
    "  3. Approved list of npm packages\n",
    "  \n",
    "  CRITICAL REQUIREMENTS:\n",
    "  - ONLY use provided internal components from the enterprise library\n",
    "  - Strictly follow enterprise design standards\n",
    "  - Only use approved npm packages. Do not use any external npm packages not used in the given context. \n",
    "  - Focus on rapid prototyping by reusing existing components\n",
    "  - Maintain consistent styling and UX patterns\n",
    "</enterprise_context>\n",
    "\n",
    "<response_format>\n",
    "  Generate responses in JSON format following the StepType enum:\n",
    "  - CreateFile (0): New files\n",
    "  - CreateFolder (1): New directories\n",
    "  - EditFile (2): Modify files\n",
    "  - DeleteFile (3): Remove files\n",
    "\n",
    "  Each step must include:\n",
    "  - id: Unique integer\n",
    "  - title: Step description\n",
    "  - description: Detailed explanation\n",
    "  - type: StepType enum value\n",
    "  - content: File content or command\n",
    "  - path: Target file/folder path\n",
    "</response_format>\n",
    "\n",
    "<code_formatting>\n",
    "  - Use 2 spaces for indentation\n",
    "  - Follow enterprise code style guide\n",
    "  - Split functionality into modular components\n",
    "  - Keep files small and focused\n",
    "  - Use proper TypeScript types\n",
    "</code_formatting>\n",
    "\n",
    "IMPORTANT:\n",
    "1. Think holistically before generating responses\n",
    "2. Consider all file dependencies and impacts\n",
    "3. Always use latest file modifications\n",
    "4. Install dependencies first\n",
    "5. Never re-run dev server if already running\n",
    "6. Provide complete, untruncated code\n",
    "7. Focus on reusing enterprise components\n",
    "   \n",
    "\"\"\""
   ]
  },
  {
   "cell_type": "code",
   "execution_count": 4,
   "id": "8dda7770",
   "metadata": {
    "execution": {
     "iopub.execute_input": "2025-03-30T14:11:24.769928Z",
     "iopub.status.busy": "2025-03-30T14:11:24.769587Z",
     "iopub.status.idle": "2025-03-30T14:11:24.776226Z",
     "shell.execute_reply": "2025-03-30T14:11:24.775213Z"
    },
    "papermill": {
     "duration": 0.013332,
     "end_time": "2025-03-30T14:11:24.778180",
     "exception": false,
     "start_time": "2025-03-30T14:11:24.764848",
     "status": "completed"
    },
    "tags": []
   },
   "outputs": [],
   "source": [
    "codeBasePrompt = \"\"\"\n",
    "Project Files:\\n\\nThe following is a list of all project files and their complete contents that are currently visible and accessible to you.\\n\\neslint.config.js:\\n```\\nimport js from '@eslint/js';\\nimport globals from 'globals';\\nimport reactHooks from 'eslint-plugin-react-hooks';\\nimport reactRefresh from 'eslint-plugin-react-refresh';\\nimport tseslint from 'typescript-eslint';\\n\\nexport default tseslint.config(\\n  { ignores: ['dist'] },\\n  {\\n    extends: [js.configs.recommended, ...tseslint.configs.recommended],\\n    files: ['**/*.{ts,tsx}'],\\n    languageOptions: {\\n      ecmaVersion: 2020,\\n      globals: globals.browser,\\n    },\\n    plugins: {\\n      'react-hooks': reactHooks,\\n      'react-refresh': reactRefresh,\\n    },\\n    rules: {\\n      ...reactHooks.configs.recommended.rules,\\n      'react-refresh/only-export-components': [\\n        'warn',\\n        { allowConstantExport: true },\\n      ],\\n    },\\n  }\\n);\\n\\n```\\n\\nindex.html:\\n```\\n<!doctype html>\\n<html lang=\\\"en\\\">\\n  <head>\\n    <meta charset=\\\"UTF-8\\\" />\\n    <link rel=\\\"icon\\\" type=\\\"image/svg+xml\\\" href=\\\"/vite.svg\\\" />\\n    <meta name=\\\"viewport\\\" content=\\\"width=device-width, initial-scale=1.0\\\" />\\n    <title>calculator</title>\\n  </head>\\n  <body>\\n    <div id=\\\"root\\\"></div>\\n    <script type=\\\"module\\\" src=\\\"/src/main.tsx\\\"></script>\\n  </body>\\n</html>\\n\\n```\\n\\npackage.json:\\n```\\n{\\n  \\\"name\\\": \\\"vite-react-typescript-starter\\\",\\n  \\\"private\\\": true,\\n  \\\"version\\\": \\\"0.0.0\\\",\\n  \\\"type\\\": \\\"module\\\",\\n  \\\"scripts\\\": {\\n    \\\"dev\\\": \\\"vite\\\",\\n    \\\"build\\\": \\\"vite build\\\",\\n    \\\"lint\\\": \\\"eslint .\\\",\\n    \\\"preview\\\": \\\"vite preview\\\"\\n  },\\n  \\\"dependencies\\\": {\\n    \\\"lucide-react\\\": \\\"^0.344.0\\\",\\n    \\\"react\\\": \\\"^18.3.1\\\",\\n    \\\"react-dom\\\": \\\"^18.3.1\\\"\\n  },\\n  \\\"devDependencies\\\": {\\n    \\\"@eslint/js\\\": \\\"^9.9.1\\\",\\n    \\\"@types/react\\\": \\\"^18.3.5\\\",\\n    \\\"@types/react-dom\\\": \\\"^18.3.0\\\",\\n    \\\"@vitejs/plugin-react\\\": \\\"^4.3.1\\\",\\n    \\\"autoprefixer\\\": \\\"^10.4.18\\\",\\n    \\\"eslint\\\": \\\"^9.9.1\\\",\\n    \\\"eslint-plugin-react-hooks\\\": \\\"^5.1.0-rc.0\\\",\\n    \\\"eslint-plugin-react-refresh\\\": \\\"^0.4.11\\\",\\n    \\\"globals\\\": \\\"^15.9.0\\\",\\n    \\\"postcss\\\": \\\"^8.4.35\\\",\\n    \\\"tailwindcss\\\": \\\"^3.4.1\\\",\\n    \\\"typescript\\\": \\\"^5.5.3\\\",\\n    \\\"typescript-eslint\\\": \\\"^8.3.0\\\",\\n    \\\"vite\\\": \\\"^5.4.2\\\"\\n  }\\n}\\n\\n```\\n\\npostcss.config.js:\\n```\\nexport default {\\n  plugins: {\\n    tailwindcss: {},\\n    autoprefixer: {},\\n  },\\n};\\n\\n```\\n\\nsrc/App.tsx:\\n```\\nimport React, { useState } from 'react';\\nimport { Equal, Delete, Plus, Minus, X, Divide, Moon, Sun } from 'lucide-react';\\n\\nfunction App() {\\n  const [display, setDisplay] = useState('0');\\n  const [equation, setEquation] = useState('');\\n  const [shouldResetDisplay, setShouldResetDisplay] = useState(false);\\n  const [isDark, setIsDark] = useState(false);\\n\\n  const handleNumber = (num: string) => {\\n    if (shouldResetDisplay) {\\n      setDisplay(num);\\n      setShouldResetDisplay(false);\\n    } else {\\n      setDisplay(display === '0' ? num : display + num);\\n    }\\n  };\\n\\n  const handleOperator = (operator: string) => {\\n    setShouldResetDisplay(true);\\n    setEquation(display + ' ' + operator + ' ');\\n  };\\n\\n  const handleEqual = () => {\\n    try {\\n      const result = eval(equation + display);\\n      setDisplay(String(result));\\n      setEquation('');\\n    } catch (error) {\\n      setDisplay('Error');\\n    }\\n    setShouldResetDisplay(true);\\n  };\\n\\n  const handleClear = () => {\\n    setDisplay('0');\\n    setEquation('');\\n    setShouldResetDisplay(false);\\n  };\\n\\n  const toggleTheme = () => {\\n    setIsDark(!isDark);\\n    document.documentElement.classList.toggle('dark');\\n  };\\n\\n  const CalcButton = ({ onClick, children, className = '' }: { \\n    onClick: () => void;\\n    children: React.ReactNode;\\n    className?: string;\\n  }) => (\\n    <button\\n      onClick={onClick}\\n      className={`p-4 text-lg font-semibold rounded-xl transition-all duration-200 \\n      hover:bg-opacity-90 active:scale-95 ${className}`}\\n    >\\n      {children}\\n    </button>\\n  );\\n\\n  return (\\n    <div className={`min-h-screen flex items-center justify-center p-4\\n      ${isDark ? 'bg-gradient-to-br from-gray-900 to-gray-800' : 'bg-gradient-to-br from-blue-100 to-purple-100'}`}>\\n      <div className={`rounded-2xl shadow-2xl w-full max-w-xs p-6\\n        ${isDark ? 'bg-gray-800' : 'bg-white'}`}>\\n        <div className=\\\"flex justify-between items-center mb-4\\\">\\n          <button\\n            onClick={toggleTheme}\\n            className={`p-2 rounded-lg transition-colors\\n              ${isDark ? 'text-gray-300 hover:bg-gray-700' : 'text-gray-600 hover:bg-gray-100'}`}\\n          >\\n            {isDark ? <Sun size={20} /> : <Moon size={20} />}\\n          </button>\\n          <div className=\\\"text-right flex-1\\\">\\n            <div className={`h-6 text-sm ${isDark ? 'text-gray-400' : 'text-gray-500'}`}>\\n              {equation}\\n            </div>\\n            <div className={`text-3xl font-bold h-12 overflow-hidden\\n              ${isDark ? 'text-white' : 'text-gray-900'}`}>\\n              {display}\\n            </div>\\n          </div>\\n        </div>\\n        \\n        <div className=\\\"grid grid-cols-4 gap-2\\\">\\n          <CalcButton\\n            onClick={handleClear}\\n            className=\\\"bg-red-500 text-white col-span-2 dark:bg-red-600\\\"\\n          >\\n            <div className=\\\"flex items-center justify-center gap-1\\\">\\n              <Delete size={20} /> Clear\\n            </div>\\n          </CalcButton>\\n          <CalcButton\\n            onClick={() => handleOperator('/')}\\n            className={isDark ? 'bg-gray-700 text-gray-200' : 'bg-gray-200'}\\n          >\\n            <Divide size={20} />\\n          </CalcButton>\\n          <CalcButton\\n            onClick={() => handleOperator('*')}\\n            className={isDark ? 'bg-gray-700 text-gray-200' : 'bg-gray-200'}\\n          >\\n            <X size={20} />\\n          </CalcButton>\\n\\n          {[7, 8, 9].map((num) => (\\n            <CalcButton\\n              key={num}\\n              onClick={() => handleNumber(String(num))}\\n              className={isDark ? 'bg-gray-700 text-gray-200' : 'bg-gray-100'}\\n            >\\n              {num}\\n            </CalcButton>\\n          ))}\\n          <CalcButton\\n            onClick={() => handleOperator('-')}\\n            className={isDark ? 'bg-gray-700 text-gray-200' : 'bg-gray-200'}\\n          >\\n            <Minus size={20} />\\n          </CalcButton>\\n\\n          {[4, 5, 6].map((num) => (\\n            <CalcButton\\n              key={num}\\n              onClick={() => handleNumber(String(num))}\\n              className={isDark ? 'bg-gray-700 text-gray-200' : 'bg-gray-100'}\\n            >\\n              {num}\\n            </CalcButton>\\n          ))}\\n          <CalcButton\\n            onClick={() => handleOperator('+')}\\n            className={isDark ? 'bg-gray-700 text-gray-200' : 'bg-gray-200'}\\n          >\\n            <Plus size={20} />\\n          </CalcButton>\\n\\n          {[1, 2, 3].map((num) => (\\n            <CalcButton\\n              key={num}\\n              onClick={() => handleNumber(String(num))}\\n              className={isDark ? 'bg-gray-700 text-gray-200' : 'bg-gray-100'}\\n            >\\n              {num}\\n            </CalcButton>\\n          ))}\\n          <CalcButton\\n            onClick={handleEqual}\\n            className=\\\"bg-blue-500 text-white row-span-2 dark:bg-blue-600\\\"\\n          >\\n            <Equal size={20} />\\n          </CalcButton>\\n\\n          <CalcButton\\n            onClick={() => handleNumber('0')}\\n            className={`col-span-2 ${isDark ? 'bg-gray-700 text-gray-200' : 'bg-gray-100'}`}\\n          >\\n            0\\n          </CalcButton>\\n          <CalcButton\\n            onClick={() => handleNumber('.')}\\n            className={isDark ? 'bg-gray-700 text-gray-200' : 'bg-gray-100'}\\n          >\\n            .\\n          </CalcButton>\\n        </div>\\n      </div>\\n    </div>\\n  );\\n}\\n\\nexport default App;\\n```\\n\\nsrc/index.css:\\n```\\n@tailwind base;\\n@tailwind components;\\n@tailwind utilities;\\n\\n```\\n\\nsrc/main.tsx:\\n```\\nimport { StrictMode } from 'react';\\nimport { createRoot } from 'react-dom/client';\\nimport App from './App.tsx';\\nimport './index.css';\\n\\ncreateRoot(document.getElementById('root')!).render(\\n  <StrictMode>\\n    <App />\\n  </StrictMode>\\n);\\n\\n```\\n\\nsrc/vite-env.d.ts:\\n```\\n/// <reference types=\\\"vite/client\\\" />\\n\\n```\\n\\ntailwind.config.js:\\n```\\n/** @type {import('tailwindcss').Config} */\\nexport default {\\n  content: ['./index.html', './src/**/*.{js,ts,jsx,tsx}'],\\n  darkMode: 'class',\\n  theme: {\\n    extend: {},\\n  },\\n  plugins: [],\\n};\\n```\\n\\ntsconfig.app.json:\\n```\\n{\\n  \\\"compilerOptions\\\": {\\n    \\\"target\\\": \\\"ES2020\\\",\\n    \\\"useDefineForClassFields\\\": true,\\n    \\\"lib\\\": [\\\"ES2020\\\", \\\"DOM\\\", \\\"DOM.Iterable\\\"],\\n    \\\"module\\\": \\\"ESNext\\\",\\n    \\\"skipLibCheck\\\": true,\\n\\n    /* Bundler mode */\\n    \\\"moduleResolution\\\": \\\"bundler\\\",\\n    \\\"allowImportingTsExtensions\\\": true,\\n    \\\"isolatedModules\\\": true,\\n    \\\"moduleDetection\\\": \\\"force\\\",\\n    \\\"noEmit\\\": true,\\n    \\\"jsx\\\": \\\"react-jsx\\\",\\n\\n    /* Linting */\\n    \\\"strict\\\": true,\\n    \\\"noUnusedLocals\\\": true,\\n    \\\"noUnusedParameters\\\": true,\\n    \\\"noFallthroughCasesInSwitch\\\": true\\n  },\\n  \\\"include\\\": [\\\"src\\\"]\\n}\\n\\n```\\n\\ntsconfig.json:\\n```\\n{\\n  \\\"files\\\": [],\\n  \\\"references\\\": [\\n    { \\\"path\\\": \\\"./tsconfig.app.json\\\" },\\n    { \\\"path\\\": \\\"./tsconfig.node.json\\\" }\\n  ]\\n}\\n\\n```\\n\\ntsconfig.node.json:\\n```\\n{\\n  \\\"compilerOptions\\\": {\\n    \\\"target\\\": \\\"ES2022\\\",\\n    \\\"lib\\\": [\\\"ES2023\\\"],\\n    \\\"module\\\": \\\"ESNext\\\",\\n    \\\"skipLibCheck\\\": true,\\n\\n    /* Bundler mode */\\n    \\\"moduleResolution\\\": \\\"bundler\\\",\\n    \\\"allowImportingTsExtensions\\\": true,\\n    \\\"isolatedModules\\\": true,\\n    \\\"moduleDetection\\\": \\\"force\\\",\\n    \\\"noEmit\\\": true,\\n\\n    /* Linting */\\n    \\\"strict\\\": true,\\n    \\\"noUnusedLocals\\\": true,\\n    \\\"noUnusedParameters\\\": true,\\n    \\\"noFallthroughCasesInSwitch\\\": true\\n  },\\n  \\\"include\\\": [\\\"vite.config.ts\\\"]\\n}\\n\\n```\\n\\nvite.config.ts:\\n```\\nimport { defineConfig } from 'vite';\\nimport react from '@vitejs/plugin-react';\\n\\n// https://vitejs.dev/config/\\nexport default defineConfig({\\n  plugins: [react()],\\n  optimizeDeps: {\\n    exclude: ['lucide-react'],\\n  },\\n});\\n\\n```\\n\\nHere is a list of files that exist on the file system but are not being shown to you:\\n\\n  - .gitignore\\n  - .bolt/prompt\\n  - .bolt/config.json\\n  - package-lock.json\n",
    "\"\"\""
   ]
  },
  {
   "cell_type": "code",
   "execution_count": 5,
   "id": "d055e188",
   "metadata": {
    "execution": {
     "iopub.execute_input": "2025-03-30T14:11:24.787904Z",
     "iopub.status.busy": "2025-03-30T14:11:24.787475Z",
     "iopub.status.idle": "2025-03-30T14:11:24.793562Z",
     "shell.execute_reply": "2025-03-30T14:11:24.791999Z"
    },
    "papermill": {
     "duration": 0.013475,
     "end_time": "2025-03-30T14:11:24.795541",
     "exception": false,
     "start_time": "2025-03-30T14:11:24.782066",
     "status": "completed"
    },
    "tags": []
   },
   "outputs": [],
   "source": [
    "historyPrompt = \"\"\"\n",
    "Below is the conversation history, including all previous messages along with the most recent assistant response. Please reference this context to inform your future responses and maintain conversation continuity.\n",
    "\"\"\""
   ]
  },
  {
   "cell_type": "code",
   "execution_count": 6,
   "id": "496a8927",
   "metadata": {
    "execution": {
     "iopub.execute_input": "2025-03-30T14:11:24.807165Z",
     "iopub.status.busy": "2025-03-30T14:11:24.806763Z",
     "iopub.status.idle": "2025-03-30T14:11:24.811237Z",
     "shell.execute_reply": "2025-03-30T14:11:24.809960Z"
    },
    "papermill": {
     "duration": 0.013052,
     "end_time": "2025-03-30T14:11:24.813714",
     "exception": false,
     "start_time": "2025-03-30T14:11:24.800662",
     "status": "completed"
    },
    "tags": []
   },
   "outputs": [],
   "source": [
    "list_history_prompts = []\n",
    "last_llm_response = \"\""
   ]
  },
  {
   "cell_type": "code",
   "execution_count": 7,
   "id": "3ccff3d1",
   "metadata": {
    "execution": {
     "iopub.execute_input": "2025-03-30T14:11:24.825757Z",
     "iopub.status.busy": "2025-03-30T14:11:24.825235Z",
     "iopub.status.idle": "2025-03-30T14:11:24.831269Z",
     "shell.execute_reply": "2025-03-30T14:11:24.829926Z"
    },
    "papermill": {
     "duration": 0.015834,
     "end_time": "2025-03-30T14:11:24.833882",
     "exception": false,
     "start_time": "2025-03-30T14:11:24.818048",
     "status": "completed"
    },
    "tags": []
   },
   "outputs": [],
   "source": [
    "latestQuery=\"\""
   ]
  },
  {
   "cell_type": "code",
   "execution_count": 8,
   "id": "97cae6b4",
   "metadata": {
    "execution": {
     "iopub.execute_input": "2025-03-30T14:11:24.849957Z",
     "iopub.status.busy": "2025-03-30T14:11:24.849578Z",
     "iopub.status.idle": "2025-03-30T14:11:24.858532Z",
     "shell.execute_reply": "2025-03-30T14:11:24.856760Z"
    },
    "papermill": {
     "duration": 0.019561,
     "end_time": "2025-03-30T14:11:24.860562",
     "exception": true,
     "start_time": "2025-03-30T14:11:24.841001",
     "status": "failed"
    },
    "tags": []
   },
   "outputs": [
    {
     "ename": "SyntaxError",
     "evalue": "invalid syntax (<ipython-input-8-dca3e1a29d5b>, line 8)",
     "output_type": "error",
     "traceback": [
      "\u001b[0;36m  File \u001b[0;32m\"<ipython-input-8-dca3e1a29d5b>\"\u001b[0;36m, line \u001b[0;32m8\u001b[0m\n\u001b[0;31m    {\"role\": \"user\", \"content\": latestQuery},\u001b[0m\n\u001b[0m    ^\u001b[0m\n\u001b[0;31mSyntaxError\u001b[0m\u001b[0;31m:\u001b[0m invalid syntax\n"
     ]
    }
   ],
   "source": [
    "\n",
    "# for backward compatibility, you can still use `https://api.deepseek.com/v1` as `base_url`.\n",
    "response = client.chat.completions.create(\n",
    "    model=\"deepseek-chat\",\n",
    "    messages=[\n",
    "        {\"role\": \"system\", \"content\": systemPrompt},\n",
    "        {\"role\": \"user\", \"content\": codeBasePrompt},\n",
    "        *([{\"role\": \"user\", \"content\": historyPrompt}, {\"role\": \"assistant\", \"content\": last_llm_response}] if historyPrompt else [])\n",
    "        {\"role\": \"user\", \"content\": latestQuery},\n",
    "  ],\n",
    "    max_tokens=1024,\n",
    "    temperature=0.0,\n",
    "    stream=False\n",
    ")\n",
    "\n",
    "print(response.choices[0].message.content)"
   ]
  },
  {
   "cell_type": "code",
   "execution_count": null,
   "id": "ccf08c9a",
   "metadata": {
    "execution": {
     "iopub.execute_input": "2025-03-30T12:57:32.282752Z",
     "iopub.status.busy": "2025-03-30T12:57:32.282357Z",
     "iopub.status.idle": "2025-03-30T12:57:32.287170Z",
     "shell.execute_reply": "2025-03-30T12:57:32.286098Z",
     "shell.execute_reply.started": "2025-03-30T12:57:32.282727Z"
    },
    "papermill": {
     "duration": null,
     "end_time": null,
     "exception": null,
     "start_time": null,
     "status": "pending"
    },
    "tags": []
   },
   "outputs": [],
   "source": [
    "errorDebugPrompt = \"\"\"\n",
    "The following are the errors encountered while running the code. Please analyze these errors thoroughly, identify the root cause based on the context provided use precise debugging techniques and best practices to modify the codebase accordingly. Implement additional improvements or optimizations to enhance the code's functionality and maintainability,\"\"\""
   ]
  },
  {
   "cell_type": "code",
   "execution_count": null,
   "id": "1154bc7f",
   "metadata": {
    "execution": {
     "iopub.execute_input": "2025-03-30T12:57:33.252440Z",
     "iopub.status.busy": "2025-03-30T12:57:33.251997Z",
     "iopub.status.idle": "2025-03-30T12:57:33.257872Z",
     "shell.execute_reply": "2025-03-30T12:57:33.256387Z",
     "shell.execute_reply.started": "2025-03-30T12:57:33.252409Z"
    },
    "papermill": {
     "duration": null,
     "end_time": null,
     "exception": null,
     "start_time": null,
     "status": "pending"
    },
    "tags": []
   },
   "outputs": [],
   "source": [
    "errorMessage = \"\"\"\n",
    "Access to fetch at 'https://api.example.com/data' from origin 'http://localhost:3000' has been blocked by CORS policy: No 'Access-Control-Allow-Origin' header is present on the requested resource. If an opaque response serves your needs, set the request's mode to 'no-cors' to fetch the resource with CORS disabled.\n",
    "\"\"\""
   ]
  },
  {
   "cell_type": "code",
   "execution_count": null,
   "id": "6481944c",
   "metadata": {
    "execution": {
     "iopub.execute_input": "2025-03-30T13:06:55.533198Z",
     "iopub.status.busy": "2025-03-30T13:06:55.532773Z",
     "iopub.status.idle": "2025-03-30T13:08:55.498268Z",
     "shell.execute_reply": "2025-03-30T13:08:55.496796Z",
     "shell.execute_reply.started": "2025-03-30T13:06:55.533170Z"
    },
    "papermill": {
     "duration": null,
     "end_time": null,
     "exception": null,
     "start_time": null,
     "status": "pending"
    },
    "tags": []
   },
   "outputs": [],
   "source": [
    "# for backward compatibility, you can still use `https://api.deepseek.com/v1` as `base_url`.\n",
    "response = client.chat.completions.create(\n",
    "    model=\"deepseek-chat\",\n",
    "    messages=[\n",
    "        {\"role\": \"system\", \"content\": systemPrompt},\n",
    "        {\"role\": \"user\", \"content\": codeBasePrompt},\n",
    "        {\"role\": \"user\", \"content\": errorDebugPrompt+errorMessage+codeBasePrompt},\n",
    "  ],\n",
    "    max_tokens=8000,\n",
    "    temperature=0.0,\n",
    "    stream=False\n",
    ")\n",
    "\n",
    "print(response.choices[0].message.content)"
   ]
  },
  {
   "cell_type": "code",
   "execution_count": null,
   "id": "49d0e1b7",
   "metadata": {
    "execution": {
     "iopub.execute_input": "2025-03-30T13:09:28.768454Z",
     "iopub.status.busy": "2025-03-30T13:09:28.767962Z",
     "iopub.status.idle": "2025-03-30T13:09:28.774491Z",
     "shell.execute_reply": "2025-03-30T13:09:28.773096Z",
     "shell.execute_reply.started": "2025-03-30T13:09:28.768395Z"
    },
    "papermill": {
     "duration": null,
     "end_time": null,
     "exception": null,
     "start_time": null,
     "status": "pending"
    },
    "tags": []
   },
   "outputs": [],
   "source": [
    "systemPrompt2 = \"\"\"\n",
    "You are ZenCode, an expert AI assistant specializing in generating React applications that strictly adhere to enterprise design standards and component libraries.\n",
    "\n",
    "<repository_context>\n",
    "You will receive a serialized context of the current repository's generated code state. This includes:\n",
    "- File structure and contents of previously generated code\n",
    "- Current state of all files and directories\n",
    "- Previous modifications and their history\n",
    "CRITICAL:\n",
    "- All file operations must be performed relative to this existing context\n",
    "- Maintain consistency with previously generated code\n",
    "- Consider dependencies and relationships between existing files\n",
    "- Ensure backwards compatibility when modifying existing files\n",
    "- Debug issues encountered in the current code context.\n",
    "- Provide a detailed explanation and resolution steps for any encountered errors.\n",
    "</repository_context>\n",
    "\n",
    "<system_constraints>\n",
    "You are operating in WebContainer, an in-browser Node.js runtime that emulates a Linux system. Key limitations:\n",
    "- Runs in browser, not a full Linux system\n",
    "- Can only execute browser-compatible code (JS, WebAssembly)\n",
    "- Python limited to standard library only (NO pip)\n",
    "- No native binary execution or C/C++ compilation\n",
    "- Git not available\n",
    "- For databases, use browser-compatible options (libsql, sqlite)\n",
    "- Handle and debug system-level error messages by providing actionable insights.\n",
    "</system_constraints>\n",
    "\n",
    "<enterprise_context>\n",
    "You will receive:\n",
    "1. Top-K relevant internal components from our vector database (Pinecone)\n",
    "2. Global CSS standards and design system guidelines\n",
    "3. Approved list of npm packages\n",
    "CRITICAL REQUIREMENTS:\n",
    "- ONLY use provided internal components from the enterprise library\n",
    "- Strictly follow enterprise design standards\n",
    "- Only use approved npm packages. Do not use any external npm packages not used in the given context.\n",
    "- Focus on rapid prototyping by reusing existing components\n",
    "- Maintain consistent styling and UX patterns\n",
    "- Validate and debug dependency issues within the approved npm packages\n",
    "- Suggest improvements or refactorings when system or code issues arise.\n",
    "</enterprise_context>\n",
    "\n",
    "<response_format>\n",
    "Generate responses in JSON format following the StepType enum:\n",
    "- CreateFile (0): New files\n",
    "- CreateFolder (1): New directories\n",
    "- EditFile (2): Modify files\n",
    "- DeleteFile (3): Remove files\n",
    "Each step must include:\n",
    "- id: Unique integer\n",
    "- title: Step description\n",
    "- description: Detailed explanation\n",
    "- type: StepType enum value\n",
    "- content: File content or command\n",
    "- path: Target file/folder path\n",
    "- Include debug steps as part of the description field for error-handling scenarios.\n",
    "</response_format>\n",
    "\n",
    "<code_formatting>\n",
    "- Use 2 spaces for indentation\n",
    "- Follow enterprise code style guide\n",
    "- Split functionality into modular components\n",
    "- Keep files small and focused\n",
    "- Use proper TypeScript types\n",
    "- Validate any error-prone functions or components using unit tests and ensure output consistency.\n",
    "</code_formatting>\n",
    "\n",
    "IMPORTANT:\n",
    "1. Think holistically before generating responses\n",
    "2. Consider all file dependencies and impacts\n",
    "3. Always use latest file modifications\n",
    "4. Install dependencies first\n",
    "5. Never re-run dev server if already running\n",
    "6. Provide complete, untruncated code\n",
    "7. Focus on reusing enterprise components\n",
    "8. Debug and resolve any error responses before finalizing outputs\n",
    "9. Document the debugging process within the JSON response where applicable.\n",
    "\n",
    "\"\"\""
   ]
  },
  {
   "cell_type": "code",
   "execution_count": null,
   "id": "3e6bf892",
   "metadata": {
    "execution": {
     "iopub.execute_input": "2025-03-30T13:09:29.961491Z",
     "iopub.status.busy": "2025-03-30T13:09:29.961020Z",
     "iopub.status.idle": "2025-03-30T13:11:34.808860Z",
     "shell.execute_reply": "2025-03-30T13:11:34.807633Z",
     "shell.execute_reply.started": "2025-03-30T13:09:29.961453Z"
    },
    "papermill": {
     "duration": null,
     "end_time": null,
     "exception": null,
     "start_time": null,
     "status": "pending"
    },
    "tags": []
   },
   "outputs": [],
   "source": [
    "response = client.chat.completions.create(\n",
    "    model=\"deepseek-chat\",\n",
    "    messages=[\n",
    "        {\"role\": \"system\", \"content\": systemPrompt2},\n",
    "        {\"role\": \"user\", \"content\": codeBasePrompt},\n",
    "        {\"role\": \"user\", \"content\": errorDebugPrompt+errorMessage+codeBasePrompt},\n",
    "  ],\n",
    "    max_tokens=8000,\n",
    "    temperature=0.0,\n",
    "    stream=False\n",
    ")\n",
    "print(\"response with updated sys prompt\")\n",
    "print(response.choices[0].message.content)"
   ]
  },
  {
   "cell_type": "code",
   "execution_count": null,
   "id": "7423d05f",
   "metadata": {
    "papermill": {
     "duration": null,
     "end_time": null,
     "exception": null,
     "start_time": null,
     "status": "pending"
    },
    "tags": []
   },
   "outputs": [],
   "source": [
    "model = OpenAIServerModel(\n",
    "    model_id=\"deepseek-ai/DeepSeek-R1\",\n",
    "    api_base=\"https://api.together.xyz/v1/\", # Leave this blank to query OpenAI servers.\n",
    "    api_key=os.environ[\"TOGETHER_API_KEY\"], # Switch to the API key for the server you're targeting.\n",
    ")"
   ]
  }
 ],
 "metadata": {
  "kaggle": {
   "accelerator": "none",
   "dataSources": [],
   "dockerImageVersionId": 30918,
   "isGpuEnabled": false,
   "isInternetEnabled": true,
   "language": "python",
   "sourceType": "notebook"
  },
  "kernelspec": {
   "display_name": "Python 3",
   "language": "python",
   "name": "python3"
  },
  "language_info": {
   "codemirror_mode": {
    "name": "ipython",
    "version": 3
   },
   "file_extension": ".py",
   "mimetype": "text/x-python",
   "name": "python",
   "nbconvert_exporter": "python",
   "pygments_lexer": "ipython3",
   "version": "3.10.12"
  },
  "papermill": {
   "default_parameters": {},
   "duration": 6.65557,
   "end_time": "2025-03-30T14:11:25.594295",
   "environment_variables": {},
   "exception": true,
   "input_path": "__notebook__.ipynb",
   "output_path": "__notebook__.ipynb",
   "parameters": {},
   "start_time": "2025-03-30T14:11:18.938725",
   "version": "2.6.0"
  }
 },
 "nbformat": 4,
 "nbformat_minor": 5
}
